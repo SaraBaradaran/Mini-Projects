{
 "cells": [
  {
   "cell_type": "markdown",
   "id": "coupled-springfield",
   "metadata": {},
   "source": [
    "<div style=\"direction:rtl;\", align=\"center\" ><h1>\n",
    "<span style='font-family:\"B Nazanin\"'>\n",
    "    پروژه درس آمار و احتمال مهندسی"
   ]
  },
  {
   "cell_type": "markdown",
   "id": "injured-salad",
   "metadata": {},
   "source": [
    "<div style=\"direction:rtl;\", align=\"center\" ><h3>\n",
    "<span style='font-family:\"B Nazanin\"'>\n",
    "اعضای گروه : سارا برادران (شماره دانشجویی : 9624193) علیرضا صالحی (شماره دانشجویی : 9729833) \n",
    "<br><br>\n",
    "رشته مهندسی کامپیوتر\n",
    "<hr style=\"border:2px solid gray\">"
   ]
  },
  {
   "cell_type": "markdown",
   "id": "norman-melbourne",
   "metadata": {},
   "source": [
    "<div style=\"direction:rtl;\", align=\"justify\" ><h3>\n",
    "<span style='font-family:\"B Nazanin\"'>\n",
    "در این پروژه از دیتاست churn استفاده کرده ایم که حاوی اطلاعات مربوط مشتریان یک شرکت مخابراتی است (مشابه همراه اول یا ایرانسل) در داخل این دیتاست اطلاعاتی از جمله دقایق تماس شب، دقایق تماس روز و عصر، دقایق تماس های بین المللی، تعداد تماس های روز شب و عصر و بین المللی هر کدام به تفکیک، استفاده یا عدم استفاده از سرویس ها و بسته های خاص مانند voice mail یا بسته international (که مربوط به  تماس های بین المللی است)، همچین تعداد  پیام های voice mail مشتری، تعداد تماس های وی با واحد پشتیبانی و سابقه ترک شرکت توسط وی آورده شده است.\n",
    "هدف از انجام این پروژه بررسی عوامل ترک شرکت توسط مشتریان و پیش بینی ترک می باشد."
   ]
  },
  {
   "cell_type": "code",
   "execution_count": 1,
   "id": "returning-ultimate",
   "metadata": {},
   "outputs": [
    {
     "data": {
      "text/html": [
       "<div>\n",
       "<style scoped>\n",
       "    .dataframe tbody tr th:only-of-type {\n",
       "        vertical-align: middle;\n",
       "    }\n",
       "\n",
       "    .dataframe tbody tr th {\n",
       "        vertical-align: top;\n",
       "    }\n",
       "\n",
       "    .dataframe thead th {\n",
       "        text-align: right;\n",
       "    }\n",
       "</style>\n",
       "<table border=\"1\" class=\"dataframe\">\n",
       "  <thead>\n",
       "    <tr style=\"text-align: right;\">\n",
       "      <th></th>\n",
       "      <th>State</th>\n",
       "      <th>Account Length</th>\n",
       "      <th>Area Code</th>\n",
       "      <th>Phone</th>\n",
       "      <th>Intl Plan</th>\n",
       "      <th>VMail Plan</th>\n",
       "      <th>VMail Message</th>\n",
       "      <th>Day Mins</th>\n",
       "      <th>Day Calls</th>\n",
       "      <th>Day Charge</th>\n",
       "      <th>...</th>\n",
       "      <th>Eve Charge</th>\n",
       "      <th>Night Mins</th>\n",
       "      <th>Night Calls</th>\n",
       "      <th>Night Charge</th>\n",
       "      <th>Intl Mins</th>\n",
       "      <th>Intl Calls</th>\n",
       "      <th>Intl Charge</th>\n",
       "      <th>CustServ Calls</th>\n",
       "      <th>Old Churn</th>\n",
       "      <th>Churn</th>\n",
       "    </tr>\n",
       "  </thead>\n",
       "  <tbody>\n",
       "    <tr>\n",
       "      <th>0</th>\n",
       "      <td>KS</td>\n",
       "      <td>128</td>\n",
       "      <td>415</td>\n",
       "      <td>382-4657</td>\n",
       "      <td>no</td>\n",
       "      <td>yes</td>\n",
       "      <td>25</td>\n",
       "      <td>265.1</td>\n",
       "      <td>110</td>\n",
       "      <td>45.07</td>\n",
       "      <td>...</td>\n",
       "      <td>16.78</td>\n",
       "      <td>244.7</td>\n",
       "      <td>91</td>\n",
       "      <td>11.01</td>\n",
       "      <td>10.0</td>\n",
       "      <td>3</td>\n",
       "      <td>2.70</td>\n",
       "      <td>1</td>\n",
       "      <td>False.</td>\n",
       "      <td>False</td>\n",
       "    </tr>\n",
       "    <tr>\n",
       "      <th>1</th>\n",
       "      <td>OH</td>\n",
       "      <td>107</td>\n",
       "      <td>415</td>\n",
       "      <td>371-7191</td>\n",
       "      <td>no</td>\n",
       "      <td>yes</td>\n",
       "      <td>26</td>\n",
       "      <td>161.6</td>\n",
       "      <td>123</td>\n",
       "      <td>27.47</td>\n",
       "      <td>...</td>\n",
       "      <td>16.62</td>\n",
       "      <td>254.4</td>\n",
       "      <td>103</td>\n",
       "      <td>11.45</td>\n",
       "      <td>13.7</td>\n",
       "      <td>3</td>\n",
       "      <td>3.70</td>\n",
       "      <td>1</td>\n",
       "      <td>False.</td>\n",
       "      <td>False</td>\n",
       "    </tr>\n",
       "    <tr>\n",
       "      <th>2</th>\n",
       "      <td>NJ</td>\n",
       "      <td>137</td>\n",
       "      <td>415</td>\n",
       "      <td>358-1921</td>\n",
       "      <td>no</td>\n",
       "      <td>no</td>\n",
       "      <td>0</td>\n",
       "      <td>243.4</td>\n",
       "      <td>114</td>\n",
       "      <td>41.38</td>\n",
       "      <td>...</td>\n",
       "      <td>10.30</td>\n",
       "      <td>162.6</td>\n",
       "      <td>104</td>\n",
       "      <td>7.32</td>\n",
       "      <td>12.2</td>\n",
       "      <td>5</td>\n",
       "      <td>3.29</td>\n",
       "      <td>0</td>\n",
       "      <td>False.</td>\n",
       "      <td>False</td>\n",
       "    </tr>\n",
       "    <tr>\n",
       "      <th>3</th>\n",
       "      <td>OH</td>\n",
       "      <td>84</td>\n",
       "      <td>408</td>\n",
       "      <td>375-9999</td>\n",
       "      <td>yes</td>\n",
       "      <td>no</td>\n",
       "      <td>0</td>\n",
       "      <td>299.4</td>\n",
       "      <td>71</td>\n",
       "      <td>50.90</td>\n",
       "      <td>...</td>\n",
       "      <td>5.26</td>\n",
       "      <td>196.9</td>\n",
       "      <td>89</td>\n",
       "      <td>8.86</td>\n",
       "      <td>6.6</td>\n",
       "      <td>7</td>\n",
       "      <td>1.78</td>\n",
       "      <td>2</td>\n",
       "      <td>False.</td>\n",
       "      <td>False</td>\n",
       "    </tr>\n",
       "    <tr>\n",
       "      <th>4</th>\n",
       "      <td>OK</td>\n",
       "      <td>75</td>\n",
       "      <td>415</td>\n",
       "      <td>330-6626</td>\n",
       "      <td>yes</td>\n",
       "      <td>no</td>\n",
       "      <td>0</td>\n",
       "      <td>166.7</td>\n",
       "      <td>113</td>\n",
       "      <td>28.34</td>\n",
       "      <td>...</td>\n",
       "      <td>12.61</td>\n",
       "      <td>186.9</td>\n",
       "      <td>121</td>\n",
       "      <td>8.41</td>\n",
       "      <td>10.1</td>\n",
       "      <td>3</td>\n",
       "      <td>2.73</td>\n",
       "      <td>3</td>\n",
       "      <td>False.</td>\n",
       "      <td>False</td>\n",
       "    </tr>\n",
       "  </tbody>\n",
       "</table>\n",
       "<p>5 rows × 22 columns</p>\n",
       "</div>"
      ],
      "text/plain": [
       "  State  Account Length  Area Code     Phone Intl Plan VMail Plan  \\\n",
       "0    KS             128        415  382-4657        no        yes   \n",
       "1    OH             107        415  371-7191        no        yes   \n",
       "2    NJ             137        415  358-1921        no         no   \n",
       "3    OH              84        408  375-9999       yes         no   \n",
       "4    OK              75        415  330-6626       yes         no   \n",
       "\n",
       "   VMail Message  Day Mins  Day Calls  Day Charge  ...  Eve Charge  \\\n",
       "0             25     265.1        110       45.07  ...       16.78   \n",
       "1             26     161.6        123       27.47  ...       16.62   \n",
       "2              0     243.4        114       41.38  ...       10.30   \n",
       "3              0     299.4         71       50.90  ...        5.26   \n",
       "4              0     166.7        113       28.34  ...       12.61   \n",
       "\n",
       "   Night Mins  Night Calls  Night Charge  Intl Mins  Intl Calls  Intl Charge  \\\n",
       "0       244.7           91         11.01       10.0           3         2.70   \n",
       "1       254.4          103         11.45       13.7           3         3.70   \n",
       "2       162.6          104          7.32       12.2           5         3.29   \n",
       "3       196.9           89          8.86        6.6           7         1.78   \n",
       "4       186.9          121          8.41       10.1           3         2.73   \n",
       "\n",
       "   CustServ Calls  Old Churn  Churn  \n",
       "0               1     False.  False  \n",
       "1               1     False.  False  \n",
       "2               0     False.  False  \n",
       "3               2     False.  False  \n",
       "4               3     False.  False  \n",
       "\n",
       "[5 rows x 22 columns]"
      ]
     },
     "execution_count": 1,
     "metadata": {},
     "output_type": "execute_result"
    }
   ],
   "source": [
    "import pandas as pd\n",
    "\n",
    "churn = pd.read_csv('churn')\n",
    "churn.head()"
   ]
  },
  {
   "cell_type": "code",
   "execution_count": 2,
   "id": "arranged-conducting",
   "metadata": {},
   "outputs": [
    {
     "name": "stdout",
     "output_type": "stream",
     "text": [
      "Dataset has 3333 rows and 22 columns\n"
     ]
    }
   ],
   "source": [
    "print('Dataset has {} rows and {} columns'.format(churn.shape[0], churn.shape[1]))"
   ]
  },
  {
   "cell_type": "code",
   "execution_count": 3,
   "id": "funded-wrestling",
   "metadata": {},
   "outputs": [
    {
     "name": "stdout",
     "output_type": "stream",
     "text": [
      "<class 'pandas.core.frame.DataFrame'>\n",
      "RangeIndex: 3333 entries, 0 to 3332\n",
      "Data columns (total 22 columns):\n",
      " #   Column          Non-Null Count  Dtype  \n",
      "---  ------          --------------  -----  \n",
      " 0   State           3333 non-null   object \n",
      " 1   Account Length  3333 non-null   int64  \n",
      " 2   Area Code       3333 non-null   int64  \n",
      " 3   Phone           3333 non-null   object \n",
      " 4   Intl Plan       3333 non-null   object \n",
      " 5   VMail Plan      3333 non-null   object \n",
      " 6   VMail Message   3333 non-null   int64  \n",
      " 7   Day Mins        3333 non-null   float64\n",
      " 8   Day Calls       3333 non-null   int64  \n",
      " 9   Day Charge      3333 non-null   float64\n",
      " 10  Eve Mins        3333 non-null   float64\n",
      " 11  Eve Calls       3333 non-null   int64  \n",
      " 12  Eve Charge      3333 non-null   float64\n",
      " 13  Night Mins      3333 non-null   float64\n",
      " 14  Night Calls     3333 non-null   int64  \n",
      " 15  Night Charge    3333 non-null   float64\n",
      " 16  Intl Mins       3333 non-null   float64\n",
      " 17  Intl Calls      3333 non-null   int64  \n",
      " 18  Intl Charge     3333 non-null   float64\n",
      " 19  CustServ Calls  3333 non-null   int64  \n",
      " 20  Old Churn       3333 non-null   object \n",
      " 21  Churn           3333 non-null   bool   \n",
      "dtypes: bool(1), float64(8), int64(8), object(5)\n",
      "memory usage: 550.2+ KB\n"
     ]
    }
   ],
   "source": [
    "churn.info()"
   ]
  },
  {
   "cell_type": "markdown",
   "id": "medieval-transfer",
   "metadata": {},
   "source": [
    "<div style=\"direction:rtl;\", align=\"justify\" ><h3>\n",
    "<span style='font-family:\"B Nazanin\"'>\n",
    "یک ستون تحت عنوان Avg Mins اضافه می کنیم که نمایانگر میانگین دقایق تماس روز، عصر، شب و بین الملل است."
   ]
  },
  {
   "cell_type": "code",
   "execution_count": 4,
   "id": "vulnerable-temple",
   "metadata": {},
   "outputs": [],
   "source": [
    "churn ['Avg Mins'] = (churn['Day Mins'] + churn['Eve Mins'] + churn['Night Mins'] + churn['Intl Mins']) / 4"
   ]
  },
  {
   "cell_type": "code",
   "execution_count": 5,
   "id": "deadly-lottery",
   "metadata": {},
   "outputs": [
    {
     "data": {
      "text/html": [
       "<div>\n",
       "<style scoped>\n",
       "    .dataframe tbody tr th:only-of-type {\n",
       "        vertical-align: middle;\n",
       "    }\n",
       "\n",
       "    .dataframe tbody tr th {\n",
       "        vertical-align: top;\n",
       "    }\n",
       "\n",
       "    .dataframe thead th {\n",
       "        text-align: right;\n",
       "    }\n",
       "</style>\n",
       "<table border=\"1\" class=\"dataframe\">\n",
       "  <thead>\n",
       "    <tr style=\"text-align: right;\">\n",
       "      <th></th>\n",
       "      <th>State</th>\n",
       "      <th>Account Length</th>\n",
       "      <th>Area Code</th>\n",
       "      <th>Phone</th>\n",
       "      <th>Intl Plan</th>\n",
       "      <th>VMail Plan</th>\n",
       "      <th>VMail Message</th>\n",
       "      <th>Day Mins</th>\n",
       "      <th>Day Calls</th>\n",
       "      <th>Day Charge</th>\n",
       "      <th>...</th>\n",
       "      <th>Night Mins</th>\n",
       "      <th>Night Calls</th>\n",
       "      <th>Night Charge</th>\n",
       "      <th>Intl Mins</th>\n",
       "      <th>Intl Calls</th>\n",
       "      <th>Intl Charge</th>\n",
       "      <th>CustServ Calls</th>\n",
       "      <th>Old Churn</th>\n",
       "      <th>Churn</th>\n",
       "      <th>Avg Mins</th>\n",
       "    </tr>\n",
       "  </thead>\n",
       "  <tbody>\n",
       "    <tr>\n",
       "      <th>0</th>\n",
       "      <td>KS</td>\n",
       "      <td>128</td>\n",
       "      <td>415</td>\n",
       "      <td>382-4657</td>\n",
       "      <td>no</td>\n",
       "      <td>yes</td>\n",
       "      <td>25</td>\n",
       "      <td>265.1</td>\n",
       "      <td>110</td>\n",
       "      <td>45.07</td>\n",
       "      <td>...</td>\n",
       "      <td>244.7</td>\n",
       "      <td>91</td>\n",
       "      <td>11.01</td>\n",
       "      <td>10.0</td>\n",
       "      <td>3</td>\n",
       "      <td>2.70</td>\n",
       "      <td>1</td>\n",
       "      <td>False.</td>\n",
       "      <td>False</td>\n",
       "      <td>179.30</td>\n",
       "    </tr>\n",
       "    <tr>\n",
       "      <th>1</th>\n",
       "      <td>OH</td>\n",
       "      <td>107</td>\n",
       "      <td>415</td>\n",
       "      <td>371-7191</td>\n",
       "      <td>no</td>\n",
       "      <td>yes</td>\n",
       "      <td>26</td>\n",
       "      <td>161.6</td>\n",
       "      <td>123</td>\n",
       "      <td>27.47</td>\n",
       "      <td>...</td>\n",
       "      <td>254.4</td>\n",
       "      <td>103</td>\n",
       "      <td>11.45</td>\n",
       "      <td>13.7</td>\n",
       "      <td>3</td>\n",
       "      <td>3.70</td>\n",
       "      <td>1</td>\n",
       "      <td>False.</td>\n",
       "      <td>False</td>\n",
       "      <td>156.30</td>\n",
       "    </tr>\n",
       "    <tr>\n",
       "      <th>2</th>\n",
       "      <td>NJ</td>\n",
       "      <td>137</td>\n",
       "      <td>415</td>\n",
       "      <td>358-1921</td>\n",
       "      <td>no</td>\n",
       "      <td>no</td>\n",
       "      <td>0</td>\n",
       "      <td>243.4</td>\n",
       "      <td>114</td>\n",
       "      <td>41.38</td>\n",
       "      <td>...</td>\n",
       "      <td>162.6</td>\n",
       "      <td>104</td>\n",
       "      <td>7.32</td>\n",
       "      <td>12.2</td>\n",
       "      <td>5</td>\n",
       "      <td>3.29</td>\n",
       "      <td>0</td>\n",
       "      <td>False.</td>\n",
       "      <td>False</td>\n",
       "      <td>134.85</td>\n",
       "    </tr>\n",
       "    <tr>\n",
       "      <th>3</th>\n",
       "      <td>OH</td>\n",
       "      <td>84</td>\n",
       "      <td>408</td>\n",
       "      <td>375-9999</td>\n",
       "      <td>yes</td>\n",
       "      <td>no</td>\n",
       "      <td>0</td>\n",
       "      <td>299.4</td>\n",
       "      <td>71</td>\n",
       "      <td>50.90</td>\n",
       "      <td>...</td>\n",
       "      <td>196.9</td>\n",
       "      <td>89</td>\n",
       "      <td>8.86</td>\n",
       "      <td>6.6</td>\n",
       "      <td>7</td>\n",
       "      <td>1.78</td>\n",
       "      <td>2</td>\n",
       "      <td>False.</td>\n",
       "      <td>False</td>\n",
       "      <td>141.20</td>\n",
       "    </tr>\n",
       "    <tr>\n",
       "      <th>4</th>\n",
       "      <td>OK</td>\n",
       "      <td>75</td>\n",
       "      <td>415</td>\n",
       "      <td>330-6626</td>\n",
       "      <td>yes</td>\n",
       "      <td>no</td>\n",
       "      <td>0</td>\n",
       "      <td>166.7</td>\n",
       "      <td>113</td>\n",
       "      <td>28.34</td>\n",
       "      <td>...</td>\n",
       "      <td>186.9</td>\n",
       "      <td>121</td>\n",
       "      <td>8.41</td>\n",
       "      <td>10.1</td>\n",
       "      <td>3</td>\n",
       "      <td>2.73</td>\n",
       "      <td>3</td>\n",
       "      <td>False.</td>\n",
       "      <td>False</td>\n",
       "      <td>128.00</td>\n",
       "    </tr>\n",
       "  </tbody>\n",
       "</table>\n",
       "<p>5 rows × 23 columns</p>\n",
       "</div>"
      ],
      "text/plain": [
       "  State  Account Length  Area Code     Phone Intl Plan VMail Plan  \\\n",
       "0    KS             128        415  382-4657        no        yes   \n",
       "1    OH             107        415  371-7191        no        yes   \n",
       "2    NJ             137        415  358-1921        no         no   \n",
       "3    OH              84        408  375-9999       yes         no   \n",
       "4    OK              75        415  330-6626       yes         no   \n",
       "\n",
       "   VMail Message  Day Mins  Day Calls  Day Charge  ...  Night Mins  \\\n",
       "0             25     265.1        110       45.07  ...       244.7   \n",
       "1             26     161.6        123       27.47  ...       254.4   \n",
       "2              0     243.4        114       41.38  ...       162.6   \n",
       "3              0     299.4         71       50.90  ...       196.9   \n",
       "4              0     166.7        113       28.34  ...       186.9   \n",
       "\n",
       "   Night Calls  Night Charge  Intl Mins  Intl Calls  Intl Charge  \\\n",
       "0           91         11.01       10.0           3         2.70   \n",
       "1          103         11.45       13.7           3         3.70   \n",
       "2          104          7.32       12.2           5         3.29   \n",
       "3           89          8.86        6.6           7         1.78   \n",
       "4          121          8.41       10.1           3         2.73   \n",
       "\n",
       "   CustServ Calls  Old Churn  Churn  Avg Mins  \n",
       "0               1     False.  False    179.30  \n",
       "1               1     False.  False    156.30  \n",
       "2               0     False.  False    134.85  \n",
       "3               2     False.  False    141.20  \n",
       "4               3     False.  False    128.00  \n",
       "\n",
       "[5 rows x 23 columns]"
      ]
     },
     "execution_count": 5,
     "metadata": {},
     "output_type": "execute_result"
    }
   ],
   "source": [
    "churn.head()"
   ]
  },
  {
   "cell_type": "markdown",
   "id": "macro-selection",
   "metadata": {},
   "source": [
    "<div style=\"direction:rtl;\", align=\"justify\" ><h3>\n",
    "<span style='font-family:\"B Nazanin\"'>\n",
    "شاخص های آماری نظیر ستون های دیتاست (حاوی تعداد رکورد های هر ستون، میانگین، انحراف معیار، مینیمم و ماکسیمم، چارک ها)"
   ]
  },
  {
   "cell_type": "code",
   "execution_count": 6,
   "id": "searching-conjunction",
   "metadata": {},
   "outputs": [
    {
     "data": {
      "text/html": [
       "<div>\n",
       "<style scoped>\n",
       "    .dataframe tbody tr th:only-of-type {\n",
       "        vertical-align: middle;\n",
       "    }\n",
       "\n",
       "    .dataframe tbody tr th {\n",
       "        vertical-align: top;\n",
       "    }\n",
       "\n",
       "    .dataframe thead th {\n",
       "        text-align: right;\n",
       "    }\n",
       "</style>\n",
       "<table border=\"1\" class=\"dataframe\">\n",
       "  <thead>\n",
       "    <tr style=\"text-align: right;\">\n",
       "      <th></th>\n",
       "      <th>Account Length</th>\n",
       "      <th>Area Code</th>\n",
       "      <th>VMail Message</th>\n",
       "      <th>Day Mins</th>\n",
       "      <th>Day Calls</th>\n",
       "      <th>Day Charge</th>\n",
       "      <th>Eve Mins</th>\n",
       "      <th>Eve Calls</th>\n",
       "      <th>Eve Charge</th>\n",
       "      <th>Night Mins</th>\n",
       "      <th>Night Calls</th>\n",
       "      <th>Night Charge</th>\n",
       "      <th>Intl Mins</th>\n",
       "      <th>Intl Calls</th>\n",
       "      <th>Intl Charge</th>\n",
       "      <th>CustServ Calls</th>\n",
       "      <th>Avg Mins</th>\n",
       "    </tr>\n",
       "  </thead>\n",
       "  <tbody>\n",
       "    <tr>\n",
       "      <th>count</th>\n",
       "      <td>3333.000000</td>\n",
       "      <td>3333.000000</td>\n",
       "      <td>3333.000000</td>\n",
       "      <td>3333.000000</td>\n",
       "      <td>3333.000000</td>\n",
       "      <td>3333.000000</td>\n",
       "      <td>3333.000000</td>\n",
       "      <td>3333.000000</td>\n",
       "      <td>3333.000000</td>\n",
       "      <td>3333.000000</td>\n",
       "      <td>3333.000000</td>\n",
       "      <td>3333.000000</td>\n",
       "      <td>3333.000000</td>\n",
       "      <td>3333.000000</td>\n",
       "      <td>3333.000000</td>\n",
       "      <td>3333.000000</td>\n",
       "      <td>3333.000000</td>\n",
       "    </tr>\n",
       "    <tr>\n",
       "      <th>mean</th>\n",
       "      <td>101.064806</td>\n",
       "      <td>437.182418</td>\n",
       "      <td>8.099010</td>\n",
       "      <td>179.775098</td>\n",
       "      <td>100.435644</td>\n",
       "      <td>30.562307</td>\n",
       "      <td>200.980348</td>\n",
       "      <td>100.114311</td>\n",
       "      <td>17.083540</td>\n",
       "      <td>200.872037</td>\n",
       "      <td>100.107711</td>\n",
       "      <td>9.039325</td>\n",
       "      <td>10.237294</td>\n",
       "      <td>4.479448</td>\n",
       "      <td>2.764581</td>\n",
       "      <td>1.562856</td>\n",
       "      <td>147.966194</td>\n",
       "    </tr>\n",
       "    <tr>\n",
       "      <th>std</th>\n",
       "      <td>39.822106</td>\n",
       "      <td>42.371290</td>\n",
       "      <td>13.688365</td>\n",
       "      <td>54.467389</td>\n",
       "      <td>20.069084</td>\n",
       "      <td>9.259435</td>\n",
       "      <td>50.713844</td>\n",
       "      <td>19.922625</td>\n",
       "      <td>4.310668</td>\n",
       "      <td>50.573847</td>\n",
       "      <td>19.568609</td>\n",
       "      <td>2.275873</td>\n",
       "      <td>2.791840</td>\n",
       "      <td>2.461214</td>\n",
       "      <td>0.753773</td>\n",
       "      <td>1.315491</td>\n",
       "      <td>22.488563</td>\n",
       "    </tr>\n",
       "    <tr>\n",
       "      <th>min</th>\n",
       "      <td>1.000000</td>\n",
       "      <td>408.000000</td>\n",
       "      <td>0.000000</td>\n",
       "      <td>0.000000</td>\n",
       "      <td>0.000000</td>\n",
       "      <td>0.000000</td>\n",
       "      <td>0.000000</td>\n",
       "      <td>0.000000</td>\n",
       "      <td>0.000000</td>\n",
       "      <td>23.200000</td>\n",
       "      <td>33.000000</td>\n",
       "      <td>1.040000</td>\n",
       "      <td>0.000000</td>\n",
       "      <td>0.000000</td>\n",
       "      <td>0.000000</td>\n",
       "      <td>0.000000</td>\n",
       "      <td>71.075000</td>\n",
       "    </tr>\n",
       "    <tr>\n",
       "      <th>25%</th>\n",
       "      <td>74.000000</td>\n",
       "      <td>408.000000</td>\n",
       "      <td>0.000000</td>\n",
       "      <td>143.700000</td>\n",
       "      <td>87.000000</td>\n",
       "      <td>24.430000</td>\n",
       "      <td>166.600000</td>\n",
       "      <td>87.000000</td>\n",
       "      <td>14.160000</td>\n",
       "      <td>167.000000</td>\n",
       "      <td>87.000000</td>\n",
       "      <td>7.520000</td>\n",
       "      <td>8.500000</td>\n",
       "      <td>3.000000</td>\n",
       "      <td>2.300000</td>\n",
       "      <td>1.000000</td>\n",
       "      <td>132.875000</td>\n",
       "    </tr>\n",
       "    <tr>\n",
       "      <th>50%</th>\n",
       "      <td>101.000000</td>\n",
       "      <td>415.000000</td>\n",
       "      <td>0.000000</td>\n",
       "      <td>179.400000</td>\n",
       "      <td>101.000000</td>\n",
       "      <td>30.500000</td>\n",
       "      <td>201.400000</td>\n",
       "      <td>100.000000</td>\n",
       "      <td>17.120000</td>\n",
       "      <td>201.200000</td>\n",
       "      <td>100.000000</td>\n",
       "      <td>9.050000</td>\n",
       "      <td>10.300000</td>\n",
       "      <td>4.000000</td>\n",
       "      <td>2.780000</td>\n",
       "      <td>1.000000</td>\n",
       "      <td>148.400000</td>\n",
       "    </tr>\n",
       "    <tr>\n",
       "      <th>75%</th>\n",
       "      <td>127.000000</td>\n",
       "      <td>510.000000</td>\n",
       "      <td>20.000000</td>\n",
       "      <td>216.400000</td>\n",
       "      <td>114.000000</td>\n",
       "      <td>36.790000</td>\n",
       "      <td>235.300000</td>\n",
       "      <td>114.000000</td>\n",
       "      <td>20.000000</td>\n",
       "      <td>235.300000</td>\n",
       "      <td>113.000000</td>\n",
       "      <td>10.590000</td>\n",
       "      <td>12.100000</td>\n",
       "      <td>6.000000</td>\n",
       "      <td>3.270000</td>\n",
       "      <td>2.000000</td>\n",
       "      <td>163.100000</td>\n",
       "    </tr>\n",
       "    <tr>\n",
       "      <th>max</th>\n",
       "      <td>243.000000</td>\n",
       "      <td>510.000000</td>\n",
       "      <td>51.000000</td>\n",
       "      <td>350.800000</td>\n",
       "      <td>165.000000</td>\n",
       "      <td>59.640000</td>\n",
       "      <td>363.700000</td>\n",
       "      <td>170.000000</td>\n",
       "      <td>30.910000</td>\n",
       "      <td>395.000000</td>\n",
       "      <td>175.000000</td>\n",
       "      <td>17.770000</td>\n",
       "      <td>20.000000</td>\n",
       "      <td>20.000000</td>\n",
       "      <td>5.400000</td>\n",
       "      <td>9.000000</td>\n",
       "      <td>221.250000</td>\n",
       "    </tr>\n",
       "  </tbody>\n",
       "</table>\n",
       "</div>"
      ],
      "text/plain": [
       "       Account Length    Area Code  VMail Message     Day Mins    Day Calls  \\\n",
       "count     3333.000000  3333.000000    3333.000000  3333.000000  3333.000000   \n",
       "mean       101.064806   437.182418       8.099010   179.775098   100.435644   \n",
       "std         39.822106    42.371290      13.688365    54.467389    20.069084   \n",
       "min          1.000000   408.000000       0.000000     0.000000     0.000000   \n",
       "25%         74.000000   408.000000       0.000000   143.700000    87.000000   \n",
       "50%        101.000000   415.000000       0.000000   179.400000   101.000000   \n",
       "75%        127.000000   510.000000      20.000000   216.400000   114.000000   \n",
       "max        243.000000   510.000000      51.000000   350.800000   165.000000   \n",
       "\n",
       "        Day Charge     Eve Mins    Eve Calls   Eve Charge   Night Mins  \\\n",
       "count  3333.000000  3333.000000  3333.000000  3333.000000  3333.000000   \n",
       "mean     30.562307   200.980348   100.114311    17.083540   200.872037   \n",
       "std       9.259435    50.713844    19.922625     4.310668    50.573847   \n",
       "min       0.000000     0.000000     0.000000     0.000000    23.200000   \n",
       "25%      24.430000   166.600000    87.000000    14.160000   167.000000   \n",
       "50%      30.500000   201.400000   100.000000    17.120000   201.200000   \n",
       "75%      36.790000   235.300000   114.000000    20.000000   235.300000   \n",
       "max      59.640000   363.700000   170.000000    30.910000   395.000000   \n",
       "\n",
       "       Night Calls  Night Charge    Intl Mins   Intl Calls  Intl Charge  \\\n",
       "count  3333.000000   3333.000000  3333.000000  3333.000000  3333.000000   \n",
       "mean    100.107711      9.039325    10.237294     4.479448     2.764581   \n",
       "std      19.568609      2.275873     2.791840     2.461214     0.753773   \n",
       "min      33.000000      1.040000     0.000000     0.000000     0.000000   \n",
       "25%      87.000000      7.520000     8.500000     3.000000     2.300000   \n",
       "50%     100.000000      9.050000    10.300000     4.000000     2.780000   \n",
       "75%     113.000000     10.590000    12.100000     6.000000     3.270000   \n",
       "max     175.000000     17.770000    20.000000    20.000000     5.400000   \n",
       "\n",
       "       CustServ Calls     Avg Mins  \n",
       "count     3333.000000  3333.000000  \n",
       "mean         1.562856   147.966194  \n",
       "std          1.315491    22.488563  \n",
       "min          0.000000    71.075000  \n",
       "25%          1.000000   132.875000  \n",
       "50%          1.000000   148.400000  \n",
       "75%          2.000000   163.100000  \n",
       "max          9.000000   221.250000  "
      ]
     },
     "execution_count": 6,
     "metadata": {},
     "output_type": "execute_result"
    }
   ],
   "source": [
    "churn.describe()"
   ]
  },
  {
   "cell_type": "markdown",
   "id": "associate-female",
   "metadata": {},
   "source": [
    "<hr style=\"border:2px solid gray\">"
   ]
  },
  {
   "cell_type": "markdown",
   "id": "discrete-implement",
   "metadata": {},
   "source": [
    "<div style=\"direction:rtl;\", align=\"\" ><h3>\n",
    "<span style='font-family:\"B Nazanin\"'>\n",
    "نمودار هیستوگرام نظیر ستون دقایق تماس عصر (Eve Mins)"
   ]
  },
  {
   "cell_type": "code",
   "execution_count": 7,
   "id": "defined-copying",
   "metadata": {},
   "outputs": [
    {
     "data": {
      "text/plain": [
       "<AxesSubplot:>"
      ]
     },
     "execution_count": 7,
     "metadata": {},
     "output_type": "execute_result"
    },
    {
     "data": {
      "image/png": "[encoded data removed]",
      "text/plain": [
       "<Figure size 432x288 with 1 Axes>"
      ]
     },
     "metadata": {
      "needs_background": "light"
     },
     "output_type": "display_data"
    }
   ],
   "source": [
    "churn['Eve Mins'].hist(color='#34c276')"
   ]
  },
  {
   "cell_type": "markdown",
   "id": "stopped-mongolia",
   "metadata": {},
   "source": [
    "<div style=\"direction:rtl;\", align=\"\" ><h3>\n",
    "<span style='font-family:\"B Nazanin\"'>\n",
    "شاخص های آماری نظیر ستون دقایق تماس عصر (Eve Mins)"
   ]
  },
  {
   "cell_type": "code",
   "execution_count": 8,
   "id": "matched-preview",
   "metadata": {},
   "outputs": [
    {
     "name": "stdout",
     "output_type": "stream",
     "text": [
      "mean     =  200.98034803480346\n",
      "variance =  2571.8940164454552\n",
      "median   =  201.4\n"
     ]
    }
   ],
   "source": [
    "print('mean     = ', churn['Eve Mins'].mean())\n",
    "print('variance = ', churn['Eve Mins'].var())\n",
    "print('median   = ', churn['Eve Mins'].median())"
   ]
  },
  {
   "cell_type": "markdown",
   "id": "endless-lincoln",
   "metadata": {},
   "source": [
    "<div style=\"direction:rtl;\", align=\"justify\" ><h3>\n",
    "<span style='font-family:\"B Nazanin\"'>\n",
    "آزمون آماری زیر نشان می دهد متغیر eve mins دارای یک توزیع نرمال است. این موضوع از روی نمودار هیستوگرام نیز تاحدودی قابل تشخیص است."
   ]
  },
  {
   "cell_type": "code",
   "execution_count": 9,
   "id": "prompt-vienna",
   "metadata": {},
   "outputs": [
    {
     "name": "stdout",
     "output_type": "stream",
     "text": [
      "p_value =  0.2662682986370542\n",
      "we accept null hypothesis\n"
     ]
    }
   ],
   "source": [
    "from scipy.stats import norm\n",
    "from statsmodels.stats.diagnostic import lilliefors\n",
    "\n",
    "p_value = lilliefors(churn['Eve Mins'])[1]\n",
    "print('p_value = ', p_value)\n",
    "\n",
    "if p_value < 0.05:\n",
    "    print(\"we reject null hypothesis\")\n",
    "else:\n",
    "    print(\"we accept null hypothesis\")"
   ]
  },
  {
   "cell_type": "markdown",
   "id": "reverse-sleeve",
   "metadata": {},
   "source": [
    "<hr style=\"border:2px solid gray\">"
   ]
  },
  {
   "cell_type": "markdown",
   "id": "fresh-motel",
   "metadata": {},
   "source": [
    "<div style=\"direction:rtl;\", align=\"\" ><h3>\n",
    "<span style='font-family:\"B Nazanin\"'>\n",
    "نمودار هیستوگرام نظیر ستون دقایق تماس شب (Night Mins)"
   ]
  },
  {
   "cell_type": "code",
   "execution_count": 10,
   "id": "positive-relative",
   "metadata": {},
   "outputs": [
    {
     "data": {
      "text/plain": [
       "<AxesSubplot:>"
      ]
     },
     "execution_count": 10,
     "metadata": {},
     "output_type": "execute_result"
    },
    {
     "data": {
      "image/png": "[encoded data removed]",
      "text/plain": [
       "<Figure size 432x288 with 1 Axes>"
      ]
     },
     "metadata": {
      "needs_background": "light"
     },
     "output_type": "display_data"
    }
   ],
   "source": [
    "churn['Night Mins'].hist(color='#34c276')"
   ]
  },
  {
   "cell_type": "markdown",
   "id": "intimate-finance",
   "metadata": {},
   "source": [
    "<div style=\"direction:rtl;\", align=\"\" ><h3>\n",
    "<span style='font-family:\"B Nazanin\"'>\n",
    "شاخص های آماری نظیر ستون دقایق تماس شب (Night Mins)"
   ]
  },
  {
   "cell_type": "code",
   "execution_count": 11,
   "id": "coupled-arthur",
   "metadata": {},
   "outputs": [
    {
     "name": "stdout",
     "output_type": "stream",
     "text": [
      "mean     =  200.87203720372048\n",
      "variance =  2557.714001760915\n",
      "median   =  201.2\n"
     ]
    }
   ],
   "source": [
    "print('mean     = ', churn['Night Mins'].mean())\n",
    "print('variance = ', churn['Night Mins'].var())\n",
    "print('median   = ', churn['Night Mins'].median())"
   ]
  },
  {
   "cell_type": "markdown",
   "id": "metallic-genome",
   "metadata": {},
   "source": [
    "<div style=\"direction:rtl;\", align=\"justify\" ><h3>\n",
    "<span style='font-family:\"B Nazanin\"'>\n",
    "آزمون آماری زیر نشان می دهد متغیر night mins دارای یک توزیع نرمال است. این موضوع از روی نمودار هیستوگرام نیز تاحدودی قابل تشخیص است."
   ]
  },
  {
   "cell_type": "code",
   "execution_count": 12,
   "id": "appreciated-modification",
   "metadata": {},
   "outputs": [
    {
     "name": "stdout",
     "output_type": "stream",
     "text": [
      "p_value =  0.8641937039349863\n",
      "we accept null hypothesis\n"
     ]
    }
   ],
   "source": [
    "\n",
    "p_value = lilliefors(churn['Night Mins'])[1]\n",
    "print('p_value = ', p_value)\n",
    "\n",
    "if p_value < 0.05:\n",
    "    print(\"we reject null hypothesis\")\n",
    "else:\n",
    "    print(\"we accept null hypothesis\")"
   ]
  },
  {
   "cell_type": "markdown",
   "id": "recreational-freeware",
   "metadata": {},
   "source": [
    "<hr style=\"border:2px solid gray\">"
   ]
  },
  {
   "cell_type": "markdown",
   "id": "oriental-reflection",
   "metadata": {},
   "source": [
    "<div style=\"direction:rtl;\", align=\"\" ><h3>\n",
    "<span style='font-family:\"B Nazanin\"'>\n",
    "نمودار هیستوگرام نظیر ستون دقایق تماس روز (Day Mins)"
   ]
  },
  {
   "cell_type": "code",
   "execution_count": 13,
   "id": "demanding-exhibition",
   "metadata": {},
   "outputs": [
    {
     "data": {
      "text/plain": [
       "<AxesSubplot:>"
      ]
     },
     "execution_count": 13,
     "metadata": {},
     "output_type": "execute_result"
    },
    {
     "data": {
      "image/png": "[encoded data removed]",
      "text/plain": [
       "<Figure size 432x288 with 1 Axes>"
      ]
     },
     "metadata": {
      "needs_background": "light"
     },
     "output_type": "display_data"
    }
   ],
   "source": [
    "churn['Day Mins'].hist(color='#34c276')"
   ]
  },
  {
   "cell_type": "markdown",
   "id": "proprietary-internship",
   "metadata": {},
   "source": [
    "<div style=\"direction:rtl;\", align=\"\" ><h3>\n",
    "<span style='font-family:\"B Nazanin\"'>\n",
    "شاخص های آماری نظیر ستون دقایق تماس روز (Day Mins)"
   ]
  },
  {
   "cell_type": "code",
   "execution_count": 14,
   "id": "extraordinary-salmon",
   "metadata": {},
   "outputs": [
    {
     "name": "stdout",
     "output_type": "stream",
     "text": [
      "mean     =  179.77509750975116\n",
      "variance =  2966.696486522607\n",
      "median   =  179.4\n"
     ]
    }
   ],
   "source": [
    "print('mean     = ', churn['Day Mins'].mean())\n",
    "print('variance = ', churn['Day Mins'].var())\n",
    "print('median   = ', churn['Day Mins'].median())"
   ]
  },
  {
   "cell_type": "markdown",
   "id": "synthetic-senegal",
   "metadata": {},
   "source": [
    "<div style=\"direction:rtl;\", align=\"justify\" ><h3>\n",
    "<span style='font-family:\"B Nazanin\"'>\n",
    "آزمون آماری زیر نشان می دهد متغیر day mins دارای یک توزیع نرمال است. این موضوع از روی نمودار هیستوگرام نیز تاحدودی قابل تشخیص است."
   ]
  },
  {
   "cell_type": "code",
   "execution_count": 15,
   "id": "stupid-jungle",
   "metadata": {},
   "outputs": [
    {
     "name": "stdout",
     "output_type": "stream",
     "text": [
      "p_value =  0.7101356478506542\n",
      "we accept null hypothesis\n"
     ]
    }
   ],
   "source": [
    "\n",
    "p_value = lilliefors(churn['Day Mins'])[1]\n",
    "print('p_value = ', p_value)\n",
    "\n",
    "if p_value < 0.05:\n",
    "    print(\"we reject null hypothesis\")\n",
    "else:\n",
    "    print(\"we accept null hypothesis\")"
   ]
  },
  {
   "cell_type": "markdown",
   "id": "micro-portugal",
   "metadata": {},
   "source": [
    "<hr style=\"border:2px solid gray\">"
   ]
  },
  {
   "cell_type": "markdown",
   "id": "demonstrated-feature",
   "metadata": {},
   "source": [
    "<div style=\"direction:rtl;\", align=\"\" ><h3>\n",
    "<span style='font-family:\"B Nazanin\"'>\n",
    "نمودار هیستوگرام نظیر ستون دقایق تماس بین الملل (Intl Mins)"
   ]
  },
  {
   "cell_type": "code",
   "execution_count": 16,
   "id": "unlikely-national",
   "metadata": {},
   "outputs": [
    {
     "data": {
      "text/plain": [
       "<AxesSubplot:>"
      ]
     },
     "execution_count": 16,
     "metadata": {},
     "output_type": "execute_result"
    },
    {
     "data": {
      "image/png": "[encoded data removed]",
      "text/plain": [
       "<Figure size 432x288 with 1 Axes>"
      ]
     },
     "metadata": {
      "needs_background": "light"
     },
     "output_type": "display_data"
    }
   ],
   "source": [
    "churn['Intl Mins'].hist(color='#34c276')"
   ]
  },
  {
   "cell_type": "markdown",
   "id": "corporate-personality",
   "metadata": {},
   "source": [
    "<div style=\"direction:rtl;\", align=\"\" ><h3>\n",
    "<span style='font-family:\"B Nazanin\"'>\n",
    "شاخص های آماری نظیر ستون دقایق تماس بین الملل (Intl Mins)"
   ]
  },
  {
   "cell_type": "code",
   "execution_count": 17,
   "id": "coated-panel",
   "metadata": {},
   "outputs": [
    {
     "name": "stdout",
     "output_type": "stream",
     "text": [
      "mean     =  10.237293729372933\n",
      "variance =  7.794368064057332\n",
      "median   =  10.3\n"
     ]
    }
   ],
   "source": [
    "print('mean     = ', churn['Intl Mins'].mean())\n",
    "print('variance = ', churn['Intl Mins'].var())\n",
    "print('median   = ', churn['Intl Mins'].median())"
   ]
  },
  {
   "cell_type": "markdown",
   "id": "recovered-heavy",
   "metadata": {},
   "source": [
    "<div style=\"direction:rtl;\", align=\"justify\" ><h3>\n",
    "<span style='font-family:\"B Nazanin\"'>\n",
    "آزمون آماری زیر نشان می دهد متغیر intl mins دارای یک توزیع نرمال نیست."
   ]
  },
  {
   "cell_type": "code",
   "execution_count": 18,
   "id": "smooth-radio",
   "metadata": {},
   "outputs": [
    {
     "name": "stdout",
     "output_type": "stream",
     "text": [
      "p_value =  0.0009999999999998899\n",
      "we reject null hypothesis\n"
     ]
    }
   ],
   "source": [
    "\n",
    "p_value = lilliefors(churn['Intl Mins'])[1]\n",
    "print('p_value = ', p_value)\n",
    "\n",
    "if p_value < 0.05:\n",
    "    print(\"we reject null hypothesis\")\n",
    "else:\n",
    "    print(\"we accept null hypothesis\")"
   ]
  },
  {
   "cell_type": "markdown",
   "id": "listed-virtue",
   "metadata": {},
   "source": [
    "<hr style=\"border:2px solid gray\">"
   ]
  },
  {
   "cell_type": "markdown",
   "id": "alleged-broad",
   "metadata": {},
   "source": [
    "<div style=\"direction:rtl;\", align=\"\" ><h3>\n",
    "<span style='font-family:\"B Nazanin\"'>\n",
    "نمودار هیستوگرام نظیر ستون میانگین دقایق تماس مشتری (شامل همه انواع تماس ها) (Avg Mins)"
   ]
  },
  {
   "cell_type": "code",
   "execution_count": 19,
   "id": "choice-papua",
   "metadata": {},
   "outputs": [
    {
     "data": {
      "text/plain": [
       "<AxesSubplot:>"
      ]
     },
     "execution_count": 19,
     "metadata": {},
     "output_type": "execute_result"
    },
    {
     "data": {
      "image/png": "[encoded data removed]",
      "text/plain": [
       "<Figure size 432x288 with 1 Axes>"
      ]
     },
     "metadata": {
      "needs_background": "light"
     },
     "output_type": "display_data"
    }
   ],
   "source": [
    "churn['Avg Mins'].hist(color='#34c276')"
   ]
  },
  {
   "cell_type": "markdown",
   "id": "incident-oxygen",
   "metadata": {},
   "source": [
    "<div style=\"direction:rtl;\", align=\"\" ><h3>\n",
    "<span style='font-family:\"B Nazanin\"'>\n",
    "شاخص های آماری نظیر ستون میانگین دقایق تماس مشتری (Avg Mins)"
   ]
  },
  {
   "cell_type": "code",
   "execution_count": 20,
   "id": "contemporary-waters",
   "metadata": {},
   "outputs": [
    {
     "name": "stdout",
     "output_type": "stream",
     "text": [
      "mean     =  147.96619411941208\n",
      "variance =  505.73545627172984\n",
      "median   =  148.39999999999998\n"
     ]
    }
   ],
   "source": [
    "print('mean     = ', churn['Avg Mins'].mean())\n",
    "print('variance = ', churn['Avg Mins'].var())\n",
    "print('median   = ', churn['Avg Mins'].median())"
   ]
  },
  {
   "cell_type": "markdown",
   "id": "transsexual-nylon",
   "metadata": {},
   "source": [
    "<div style=\"direction:rtl;\", align=\"justify\" ><h3>\n",
    "<span style='font-family:\"B Nazanin\"'>\n",
    "آزمون آماری زیر نشان می دهد متغیر Avg mins دارای یک توزیع نرمال است."
   ]
  },
  {
   "cell_type": "code",
   "execution_count": 21,
   "id": "automatic-plaintiff",
   "metadata": {},
   "outputs": [
    {
     "name": "stdout",
     "output_type": "stream",
     "text": [
      "p_value =  0.7089813210233339\n",
      "we accept null hypothesis\n"
     ]
    }
   ],
   "source": [
    "\n",
    "p_value = lilliefors(churn['Avg Mins'])[1]\n",
    "print('p_value = ', p_value)\n",
    "\n",
    "if p_value < 0.05:\n",
    "    print(\"we reject null hypothesis\")\n",
    "else:\n",
    "    print(\"we accept null hypothesis\")"
   ]
  },
  {
   "cell_type": "markdown",
   "id": "intensive-antibody",
   "metadata": {},
   "source": [
    "<hr style=\"border:2px solid gray\">"
   ]
  },
  {
   "cell_type": "markdown",
   "id": "arranged-stress",
   "metadata": {},
   "source": [
    "<div style=\"direction:rtl;\", align=\"justify\" ><h3>\n",
    "<span style='font-family:\"B Nazanin\"'>\n",
    "نمودار ستونی نظیر تعداد تماس مشتریان با واحد پشتیبانی (Customer Service Calls)\n",
    "با توجه به این نمودار به نظر میرسد درصد زیادی از مشتریان 0 الی 3 تماس با واحد پشتیبانی داشته اند. "
   ]
  },
  {
   "cell_type": "code",
   "execution_count": 22,
   "id": "confidential-piano",
   "metadata": {},
   "outputs": [
    {
     "data": {
      "text/plain": [
       "<AxesSubplot:xlabel='CustServ Calls', ylabel='count'>"
      ]
     },
     "execution_count": 22,
     "metadata": {},
     "output_type": "execute_result"
    },
    {
     "data": {
      "image/png": "[encoded data removed]",
      "text/plain": [
       "<Figure size 432x288 with 1 Axes>"
      ]
     },
     "metadata": {
      "needs_background": "light"
     },
     "output_type": "display_data"
    }
   ],
   "source": [
    "import seaborn as sns\n",
    "\n",
    "sns.countplot(x ='CustServ Calls', data = churn[['CustServ Calls']])"
   ]
  },
  {
   "cell_type": "markdown",
   "id": "innocent-motivation",
   "metadata": {},
   "source": [
    "<div style=\"direction:rtl;\", align=\"justify\" ><h3>\n",
    "<span style='font-family:\"B Nazanin\"'>\n",
    "جدول زیر درصد فراوانی تعداد تماس ها با پشتیبانی را نشان می دهد همانطور که در نمودار فوق نیز مشخص شد قریب به 92 درصد از مشتریان 0 الی 3 تماس با واحد پشتیبانی داشته اند و 8 درصد باقی مانده یعنی حدود 267 مشتری از میان 3333 مشتری بیش از 3 تماس با واحد پشتیانی داشته اند "
   ]
  },
  {
   "cell_type": "code",
   "execution_count": 23,
   "id": "criminal-pipeline",
   "metadata": {},
   "outputs": [
    {
     "data": {
      "text/plain": [
       "1    35.433543\n",
       "2    22.772277\n",
       "0    20.912091\n",
       "3    12.871287\n",
       "4     4.980498\n",
       "5     1.980198\n",
       "6     0.660066\n",
       "7     0.270027\n",
       "8     0.060006\n",
       "9     0.060006\n",
       "Name: CustServ Calls, dtype: float64"
      ]
     },
     "execution_count": 23,
     "metadata": {},
     "output_type": "execute_result"
    }
   ],
   "source": [
    "((churn['CustServ Calls'].value_counts() / len(churn) ) * 100)"
   ]
  },
  {
   "cell_type": "markdown",
   "id": "fatty-germany",
   "metadata": {},
   "source": [
    "<hr style=\"border:2px solid gray\">"
   ]
  },
  {
   "cell_type": "markdown",
   "id": "alpine-surveillance",
   "metadata": {},
   "source": [
    "<div style=\"direction:rtl;\", align=\"justify\" ><h3>\n",
    "<span style='font-family:\"B Nazanin\"'>\n",
    "نمودار دایره ای زیر درصد مشتریانی که شرکت را ترک کرده اند را نشان می دهد. با توجه به این نمودار از میان 3333 مشتری که اطلاعات آن ها در این دیتاست موجود است 14 درصد از آن ها یعنی حدود 467 نفر سازمان را ترک کرده اند."
   ]
  },
  {
   "cell_type": "code",
   "execution_count": 24,
   "id": "musical-dance",
   "metadata": {},
   "outputs": [
    {
     "data": {
      "text/plain": [
       "<matplotlib.legend.Legend at 0x28c764940b8>"
      ]
     },
     "execution_count": 24,
     "metadata": {},
     "output_type": "execute_result"
    },
    {
     "data": {
      "image/png": "[encoded data removed]",
      "text/plain": [
       "<Figure size 576x576 with 1 Axes>"
      ]
     },
     "metadata": {},
     "output_type": "display_data"
    }
   ],
   "source": [
    "import matplotlib.pyplot as plt\n",
    "\n",
    "df = pd.DataFrame(churn['Churn'].value_counts(),index=list(churn['Churn'].unique()),columns=['Churn'])\n",
    "plot = df.plot.pie(y='Churn', figsize=(8, 8),autopct='%.0f%%', cmap='summer')\n",
    "plt.legend(loc='upper left')"
   ]
  },
  {
   "cell_type": "markdown",
   "id": "outstanding-august",
   "metadata": {},
   "source": [
    "<hr style=\"border:2px solid gray\">"
   ]
  },
  {
   "cell_type": "markdown",
   "id": "duplicate-musician",
   "metadata": {},
   "source": [
    "<div style=\"direction:rtl;\", align=\"justify\" ><h3>\n",
    "<span style='font-family:\"B Nazanin\"'>\n",
    "نمودار دایره ای نظیر درصد مشتریانی که از سرویس voice mail plan استفاده می کنند. با توجه به نمودار 28 درصد از کل مشتریان از این سرویس استفاده می کنند و 72 درصد از آن استفاده نمی کنند."
   ]
  },
  {
   "cell_type": "code",
   "execution_count": 25,
   "id": "occupied-preference",
   "metadata": {},
   "outputs": [
    {
     "data": {
      "text/plain": [
       "<matplotlib.legend.Legend at 0x28c767e70b8>"
      ]
     },
     "execution_count": 25,
     "metadata": {},
     "output_type": "execute_result"
    },
    {
     "data": {
      "image/png": "[encoded data removed]",
      "text/plain": [
       "<Figure size 576x576 with 1 Axes>"
      ]
     },
     "metadata": {},
     "output_type": "display_data"
    }
   ],
   "source": [
    "import matplotlib.pyplot as plt\n",
    "\n",
    "df = pd.DataFrame(churn['VMail Plan'].value_counts(),index=list(churn['VMail Plan'].unique()),columns=['VMail Plan'])\n",
    "plot = df.plot.pie(y='VMail Plan', figsize=(8, 8),autopct='%.0f%%', cmap='summer')\n",
    "plt.legend(loc='upper left')"
   ]
  },
  {
   "cell_type": "markdown",
   "id": "committed-italy",
   "metadata": {},
   "source": [
    "<hr style=\"border:2px solid gray\">"
   ]
  },
  {
   "cell_type": "markdown",
   "id": "environmental-regression",
   "metadata": {},
   "source": [
    "<div style=\"direction:rtl;\", align=\"justify\" ><h3>\n",
    "<span style='font-family:\"B Nazanin\"'>\n",
    "نمودار دایره ای نظیر درصد مشتریانی که از سرویس international plan استفاده می کنند. با توجه به نمودار 10 درصد از کل مشتریان از این سرویس استفاده می کنند و 90 درصد از آن استفاده نمی کنند. "
   ]
  },
  {
   "cell_type": "code",
   "execution_count": 26,
   "id": "inside-factory",
   "metadata": {},
   "outputs": [
    {
     "data": {
      "text/plain": [
       "<matplotlib.legend.Legend at 0x28c76847d30>"
      ]
     },
     "execution_count": 26,
     "metadata": {},
     "output_type": "execute_result"
    },
    {
     "data": {
      "image/png": "[encoded data removed]",
      "text/plain": [
       "<Figure size 576x576 with 1 Axes>"
      ]
     },
     "metadata": {},
     "output_type": "display_data"
    }
   ],
   "source": [
    "df = pd.DataFrame(churn['Intl Plan'].value_counts(),index=list(churn['Intl Plan'].unique()),columns=['Intl Plan'])\n",
    "plot = df.plot.pie(y='Intl Plan', figsize=(8, 8),autopct='%.0f%%', cmap='summer')\n",
    "plt.legend(loc='upper left')"
   ]
  },
  {
   "cell_type": "markdown",
   "id": "public-participant",
   "metadata": {},
   "source": [
    "<hr style=\"border:2px solid gray\">"
   ]
  },
  {
   "cell_type": "markdown",
   "id": "fifth-pierre",
   "metadata": {},
   "source": [
    "<div style=\"direction:rtl;\", align=\"justify\" ><h3>\n",
    "<span style='font-family:\"B Nazanin\"'>\n",
    "در نمودار زیر رابطه میان متغیر خروجی یعنی churn با متغیر Vmail plan بررسی شده است به عبارت دیگر سعی داریم کشف کنیم داشتن یا نداشتن سرویس voice mail چه تاثیری بر ترک یا عدم ترک مشتریان داشته است. با توجه به نتایج بدست آمده مشخص شده است که مشتریانی که از سرویس voice mail استفاده کرده اند درصد ترک کمتری داشته اند و بالعکس کسانی که از این سرویس استفاده نکرده اند دو برابر بیش تر از کسانی که سرویس را داشته اند سازمان را ترک کرده اند. لذا به نظر میرسد این سرویس کارامد و مفید بوده است و مشتریان را تاحدودی جذب کرده است."
   ]
  },
  {
   "cell_type": "code",
   "execution_count": 27,
   "id": "alone-original",
   "metadata": {},
   "outputs": [
    {
     "data": {
      "text/plain": [
       "<AxesSubplot:xlabel='VMail Plan'>"
      ]
     },
     "execution_count": 27,
     "metadata": {},
     "output_type": "execute_result"
    },
    {
     "data": {
      "image/png": "[encoded data removed]",
      "text/plain": [
       "<Figure size 720x576 with 1 Axes>"
      ]
     },
     "metadata": {
      "needs_background": "light"
     },
     "output_type": "display_data"
    }
   ],
   "source": [
    "crosstab_01 = pd.crosstab(churn['VMail Plan'], churn['Churn'])\n",
    "\n",
    "crosstab_norm = crosstab_01.div(crosstab_01.sum(1), axis = 0)\n",
    "crosstab_norm.plot(kind = 'bar', stacked = True, figsize = (10, 8))"
   ]
  },
  {
   "cell_type": "code",
   "execution_count": 28,
   "id": "understanding-biodiversity",
   "metadata": {},
   "outputs": [
    {
     "data": {
      "text/html": [
       "<div>\n",
       "<style scoped>\n",
       "    .dataframe tbody tr th:only-of-type {\n",
       "        vertical-align: middle;\n",
       "    }\n",
       "\n",
       "    .dataframe tbody tr th {\n",
       "        vertical-align: top;\n",
       "    }\n",
       "\n",
       "    .dataframe thead th {\n",
       "        text-align: right;\n",
       "    }\n",
       "</style>\n",
       "<table border=\"1\" class=\"dataframe\">\n",
       "  <thead>\n",
       "    <tr style=\"text-align: right;\">\n",
       "      <th>Churn</th>\n",
       "      <th>False</th>\n",
       "      <th>True</th>\n",
       "    </tr>\n",
       "    <tr>\n",
       "      <th>VMail Plan</th>\n",
       "      <th></th>\n",
       "      <th></th>\n",
       "    </tr>\n",
       "  </thead>\n",
       "  <tbody>\n",
       "    <tr>\n",
       "      <th>no</th>\n",
       "      <td>83.284944</td>\n",
       "      <td>16.715056</td>\n",
       "    </tr>\n",
       "    <tr>\n",
       "      <th>yes</th>\n",
       "      <td>91.323210</td>\n",
       "      <td>8.676790</td>\n",
       "    </tr>\n",
       "  </tbody>\n",
       "</table>\n",
       "</div>"
      ],
      "text/plain": [
       "Churn           False      True \n",
       "VMail Plan                      \n",
       "no          83.284944  16.715056\n",
       "yes         91.323210   8.676790"
      ]
     },
     "execution_count": 28,
     "metadata": {},
     "output_type": "execute_result"
    }
   ],
   "source": [
    "crosstab_norm = crosstab_01.div(crosstab_01.sum(1) / 100, axis = 0)\n",
    "crosstab_norm"
   ]
  },
  {
   "cell_type": "markdown",
   "id": "right-province",
   "metadata": {},
   "source": [
    "<hr style=\"border:2px solid gray\">"
   ]
  },
  {
   "cell_type": "markdown",
   "id": "practical-adams",
   "metadata": {},
   "source": [
    "<div style=\"direction:rtl;\", align=\"justify\" ><h3>\n",
    "<span style='font-family:\"B Nazanin\"'>\n",
    "در نمودار زیر رابطه میان متغیر خروجی یعنی churn با متغیر Intl plan بررسی شده است به عبارت دیگر سعی داریم کشف کنیم داشتن یا نداشتن سرویس international چه تاثیری بر ترک یا عدم ترک مشتریان داشته است. با توجه به نتایج بدست آمده مشخص است که مشتریانی که از سرویس international استفاده کرده اند بیش از 42 درصد آن ها سازمان را ترک کرده انددر حالی که مشتریانی که از این سرویس استفاده نکرده اند حدود 11 درصد از آنها سازمان را ترک کرده اند. لذا به نظر می رسد این سرویس کارآمد و مفید نبوده و تاثیر نامطلوبی بر جذب مشتری داشته است."
   ]
  },
  {
   "cell_type": "code",
   "execution_count": 29,
   "id": "animal-shock",
   "metadata": {},
   "outputs": [
    {
     "data": {
      "text/plain": [
       "<AxesSubplot:xlabel='Intl Plan'>"
      ]
     },
     "execution_count": 29,
     "metadata": {},
     "output_type": "execute_result"
    },
    {
     "data": {
      "image/png": "[encoded data removed]",
      "text/plain": [
       "<Figure size 720x576 with 1 Axes>"
      ]
     },
     "metadata": {
      "needs_background": "light"
     },
     "output_type": "display_data"
    }
   ],
   "source": [
    "crosstab_01 = pd.crosstab(churn['Intl Plan'], churn['Churn'])\n",
    "\n",
    "crosstab_norm = crosstab_01.div(crosstab_01.sum(1), axis = 0)\n",
    "crosstab_norm.plot(kind = 'bar', stacked = True, figsize = (10, 8))"
   ]
  },
  {
   "cell_type": "code",
   "execution_count": 30,
   "id": "corrected-librarian",
   "metadata": {},
   "outputs": [
    {
     "data": {
      "text/html": [
       "<div>\n",
       "<style scoped>\n",
       "    .dataframe tbody tr th:only-of-type {\n",
       "        vertical-align: middle;\n",
       "    }\n",
       "\n",
       "    .dataframe tbody tr th {\n",
       "        vertical-align: top;\n",
       "    }\n",
       "\n",
       "    .dataframe thead th {\n",
       "        text-align: right;\n",
       "    }\n",
       "</style>\n",
       "<table border=\"1\" class=\"dataframe\">\n",
       "  <thead>\n",
       "    <tr style=\"text-align: right;\">\n",
       "      <th>Churn</th>\n",
       "      <th>False</th>\n",
       "      <th>True</th>\n",
       "    </tr>\n",
       "    <tr>\n",
       "      <th>Intl Plan</th>\n",
       "      <th></th>\n",
       "      <th></th>\n",
       "    </tr>\n",
       "  </thead>\n",
       "  <tbody>\n",
       "    <tr>\n",
       "      <th>no</th>\n",
       "      <td>88.504983</td>\n",
       "      <td>11.495017</td>\n",
       "    </tr>\n",
       "    <tr>\n",
       "      <th>yes</th>\n",
       "      <td>57.585139</td>\n",
       "      <td>42.414861</td>\n",
       "    </tr>\n",
       "  </tbody>\n",
       "</table>\n",
       "</div>"
      ],
      "text/plain": [
       "Churn          False      True \n",
       "Intl Plan                      \n",
       "no         88.504983  11.495017\n",
       "yes        57.585139  42.414861"
      ]
     },
     "execution_count": 30,
     "metadata": {},
     "output_type": "execute_result"
    }
   ],
   "source": [
    "crosstab_norm = crosstab_01.div(crosstab_01.sum(1) / 100, axis = 0)\n",
    "crosstab_norm"
   ]
  },
  {
   "cell_type": "markdown",
   "id": "upper-conditions",
   "metadata": {},
   "source": [
    "<hr style=\"border:2px solid gray\">"
   ]
  },
  {
   "cell_type": "markdown",
   "id": "juvenile-packet",
   "metadata": {},
   "source": [
    "<div style=\"direction:rtl;\", align=\"justify\" ><h3>\n",
    "<span style='font-family:\"B Nazanin\"'>\n",
    "در نمودار زیر رابطه میان متغیر خروجی یعنی churn با متغیر CustServ Calls که همان تعداد تماس با واحد پشتیبانی است بررسی شده است به عبارت دیگر سعی داریم کشف کنیم تعداد تماس مشتریان با واحد پشتیبانی سازمان چه تاثیری بر ترک یا عدم ترک آن ها داشته است. با توجه به نتایج بدست آمده مشخص است که مشتریانی تعداد تماس آن ها با واحد پشتیبانی 0 الی 3 مورد بوده است تنها 10 الی 13 درصد از آن ها سازمان را ترک کرده اند در حالی که در میان افرادی که 4 الی 8 تماس با واحد پشتیبانی داشته اند درصد ترک 45 الی 64 درصد بوده و درصد ترک افرادی که 9 تماس با واحد پشتیبانی داشته اند به 100 درصد رسیده است.  با توجه به نتایج بدست آمده به نظر می رسد احتمالا تماس های زیاد مشتریان با واحد پشتیبانی به معنای عدم رضایتمندی آن ها از خدمات سازمان بوده و نتیجا موجب ترک آن ها شده است. "
   ]
  },
  {
   "cell_type": "code",
   "execution_count": 31,
   "id": "civic-serum",
   "metadata": {},
   "outputs": [
    {
     "data": {
      "text/plain": [
       "<AxesSubplot:xlabel='CustServ Calls'>"
      ]
     },
     "execution_count": 31,
     "metadata": {},
     "output_type": "execute_result"
    },
    {
     "data": {
      "image/png": "[encoded data removed]",
      "text/plain": [
       "<Figure size 720x576 with 1 Axes>"
      ]
     },
     "metadata": {
      "needs_background": "light"
     },
     "output_type": "display_data"
    }
   ],
   "source": [
    "crosstab_01 = pd.crosstab(churn['CustServ Calls'], churn['Churn'])\n",
    "\n",
    "crosstab_norm = crosstab_01.div(crosstab_01.sum(1), axis = 0)\n",
    "crosstab_norm.plot(kind = 'bar', stacked = True, figsize = (10, 8))"
   ]
  },
  {
   "cell_type": "code",
   "execution_count": 32,
   "id": "active-processor",
   "metadata": {},
   "outputs": [
    {
     "data": {
      "text/html": [
       "<div>\n",
       "<style scoped>\n",
       "    .dataframe tbody tr th:only-of-type {\n",
       "        vertical-align: middle;\n",
       "    }\n",
       "\n",
       "    .dataframe tbody tr th {\n",
       "        vertical-align: top;\n",
       "    }\n",
       "\n",
       "    .dataframe thead th {\n",
       "        text-align: right;\n",
       "    }\n",
       "</style>\n",
       "<table border=\"1\" class=\"dataframe\">\n",
       "  <thead>\n",
       "    <tr style=\"text-align: right;\">\n",
       "      <th>Churn</th>\n",
       "      <th>False</th>\n",
       "      <th>True</th>\n",
       "    </tr>\n",
       "    <tr>\n",
       "      <th>CustServ Calls</th>\n",
       "      <th></th>\n",
       "      <th></th>\n",
       "    </tr>\n",
       "  </thead>\n",
       "  <tbody>\n",
       "    <tr>\n",
       "      <th>0</th>\n",
       "      <td>86.800574</td>\n",
       "      <td>13.199426</td>\n",
       "    </tr>\n",
       "    <tr>\n",
       "      <th>1</th>\n",
       "      <td>89.669771</td>\n",
       "      <td>10.330229</td>\n",
       "    </tr>\n",
       "    <tr>\n",
       "      <th>2</th>\n",
       "      <td>88.537549</td>\n",
       "      <td>11.462451</td>\n",
       "    </tr>\n",
       "    <tr>\n",
       "      <th>3</th>\n",
       "      <td>89.743590</td>\n",
       "      <td>10.256410</td>\n",
       "    </tr>\n",
       "    <tr>\n",
       "      <th>4</th>\n",
       "      <td>54.216867</td>\n",
       "      <td>45.783133</td>\n",
       "    </tr>\n",
       "    <tr>\n",
       "      <th>5</th>\n",
       "      <td>39.393939</td>\n",
       "      <td>60.606061</td>\n",
       "    </tr>\n",
       "    <tr>\n",
       "      <th>6</th>\n",
       "      <td>36.363636</td>\n",
       "      <td>63.636364</td>\n",
       "    </tr>\n",
       "    <tr>\n",
       "      <th>7</th>\n",
       "      <td>44.444444</td>\n",
       "      <td>55.555556</td>\n",
       "    </tr>\n",
       "    <tr>\n",
       "      <th>8</th>\n",
       "      <td>50.000000</td>\n",
       "      <td>50.000000</td>\n",
       "    </tr>\n",
       "    <tr>\n",
       "      <th>9</th>\n",
       "      <td>0.000000</td>\n",
       "      <td>100.000000</td>\n",
       "    </tr>\n",
       "  </tbody>\n",
       "</table>\n",
       "</div>"
      ],
      "text/plain": [
       "Churn               False       True \n",
       "CustServ Calls                       \n",
       "0               86.800574   13.199426\n",
       "1               89.669771   10.330229\n",
       "2               88.537549   11.462451\n",
       "3               89.743590   10.256410\n",
       "4               54.216867   45.783133\n",
       "5               39.393939   60.606061\n",
       "6               36.363636   63.636364\n",
       "7               44.444444   55.555556\n",
       "8               50.000000   50.000000\n",
       "9                0.000000  100.000000"
      ]
     },
     "execution_count": 32,
     "metadata": {},
     "output_type": "execute_result"
    }
   ],
   "source": [
    "crosstab_norm = crosstab_01.div(crosstab_01.sum(1) / 100, axis = 0)\n",
    "crosstab_norm"
   ]
  },
  {
   "cell_type": "markdown",
   "id": "utility-advantage",
   "metadata": {},
   "source": [
    "<hr style=\"border:2px solid gray\">"
   ]
  },
  {
   "cell_type": "markdown",
   "id": "simple-window",
   "metadata": {},
   "source": [
    "<div style=\"direction:rtl;\", align=\"justify\" ><h3>\n",
    "<span style='font-family:\"B Nazanin\"'>\n",
    "در شکل زیر نمودار heatmap رسم شده است که نمایانگر ضریب همبستگی میان ستون های مختلف دیتاست است. خانه های تیره رنگ نشان دهنده همبستگی قوی میان دو متغیر مربوطه است برای مثال دو متغیر Day mins , Day charge درون دیتاست ضریبا همبستگی pearsonr نظیر آن ها 1 بدست آمده است و اگر بررسی کنیم متوجه میشویم این دو ضریبی از یکدیگر هستند از نظر مفهومی نیز این امر قابل توجیه است چراکه تعداد دقایق تماس یک فرد ضریبی از شارژ خریداری شده توسط اوست و اگر شارژ وی به پایان برسد امکان برقراری تماس را نخواهد داشت. این موضوع برای متغیر های دیگری درون دیتاست نیز برقرار است.\n",
    "<div style=\"direction:ltr;\", align=\"justify\" ><h3>    \n",
    "Pearson's correlation coefficient = covariance(X, Y) / (stdv(X) * stdv(Y))"
   ]
  },
  {
   "cell_type": "code",
   "execution_count": 33,
   "id": "smart-cambodia",
   "metadata": {},
   "outputs": [
    {
     "data": {
      "text/plain": [
       "<AxesSubplot:>"
      ]
     },
     "execution_count": 33,
     "metadata": {},
     "output_type": "execute_result"
    },
    {
     "data": {
      "image/png": "[encoded data removed]",
      "text/plain": [
       "<Figure size 1080x1080 with 2 Axes>"
      ]
     },
     "metadata": {
      "needs_background": "light"
     },
     "output_type": "display_data"
    }
   ],
   "source": [
    "import matplotlib.pyplot as plt\n",
    "import seaborn as sns\n",
    "plt.subplots(figsize=(15,15))\n",
    "\n",
    "sns.heatmap(churn.corr(), annot = True, fmt='.2g',cmap= 'YlGn')"
   ]
  },
  {
   "cell_type": "markdown",
   "id": "animal-integral",
   "metadata": {},
   "source": [
    "<div style=\"direction:rtl;\", align=\"justify\" ><h3>\n",
    "<span style='font-family:\"B Nazanin\"'>\n",
    "ضریب همبستگی یا همان correlation coefficient یک عدد بین - 1 تا 1 است که معین می سازد دو متغیر از مجموعه داده ها تا\n",
    "چه میزان به هم مربوط هستند. هرچه correlation coefficient مربوط به دو متغیر به عدد 1 نزدیک تر باشد بدان معناست که با\n",
    "افزایش مقدار یک متغیر متغیر دیگر نیز به صورت مرتبط مقدار آن افزایش می یابد و ضریب همبستگی هر چه به عدد - 1 نزدیک تر باشد\n",
    "بدان معناست که دو متغیر رابطه عکس داشته و با افزایش مقدار یکی مقدار دیگری به نحوی مرتبط کاهش می یابد هرچه ضریب همبستگی\n",
    "به عدد 0 نزدیک تر باشد به این معناست که دو متغیر فاقد رابطه خاصی هستند.\n",
    "مقدار p_value نیز به این صورت قابل تعریف است : اگر در مسئله کشف رابطه میان دو متغیر یک فرضیه صفر مبنی بر اینکه دو متغیر\n",
    "مورد نظر هیچ رابطه ای ندارند در نظر بگیریم آنگاه p_value مقداری بین 0 و 1 است که نمایانگر احتمال وجود داده ها برمبنای درست\n",
    "بودن فرضیه صفر است. یعنی اگر مقدار p_value کوچک باشد به این معناست که احتمال درست بودن فرضیه صفر پایین بوده و لذا\n",
    "متغیر ها دارای ارتباط هستند و درصورتی که بزرگ باشد به این معناست که احتمال درست بودن فرضیه صفر زیاد بوده و لذا متغیر ها فاقد\n",
    "ارتباط هستند."
   ]
  },
  {
   "cell_type": "markdown",
   "id": "genuine-slope",
   "metadata": {},
   "source": [
    "<div style=\"direction:rtl;\", align=\"justify\" ><h3>\n",
    "<span style='font-family:\"B Nazanin\"'>\n",
    "در دو مثال زیر یکبار رابطه شارژ روزانه و تعداد تماس های روزانه و بار دیگر رابطه بین دو متغیر شارژ روزانه و دقایق تماس روزانه بررسی شده است در حالت اول ضریب همبستگی حدود 6 صدم بدست آمده و p-value نزدیک به 7 بدست آمده که هر دو حاکی از عدم وجود رابطه خاص بین این دو متغیر است در مثال دوم ضریب همبستگی نزدیک به 1 درآمده و p-value برابر 0 شده است که هردو حاکی  از رابطه و همبستگی قوی میان دو متغیر  است همانطور که بالاتر هم بررسی شد دقایق تماس روزانه ضریبی از مقدار شارژ روزانه است اما طبیعتا تعداد تماس روزانه با شارژ روزانه لزوما ارتباط خاصی ندارد مثلا ممکن است یه مشتری به مقدار x شارژ خریداری کند اما تمام آن را در یک تماس مصرف کند و مشتری دیگر همان مقدار شارژ را صرف 10 تماس کند."
   ]
  },
  {
   "cell_type": "code",
   "execution_count": 34,
   "id": "absent-ozone",
   "metadata": {},
   "outputs": [
    {
     "name": "stdout",
     "output_type": "stream",
     "text": [
      "correlation coefficient = 0.006752961967446323 & p-value = 0.6967427544230268\n"
     ]
    }
   ],
   "source": [
    "from scipy.stats import pearsonr\n",
    "print('correlation coefficient =', pearsonr(churn['Day Charge'], churn['Day Calls'])[0], '& p-value ='\n",
    "      , pearsonr(churn['Day Charge'], churn['Day Calls'])[1])"
   ]
  },
  {
   "cell_type": "code",
   "execution_count": 35,
   "id": "connected-nature",
   "metadata": {},
   "outputs": [
    {
     "name": "stdout",
     "output_type": "stream",
     "text": [
      "correlation coefficient = 0.9999999521903996 & p-value = 0.0\n"
     ]
    }
   ],
   "source": [
    "from scipy.stats import pearsonr\n",
    "print('correlation coefficient =', pearsonr(churn['Day Charge'], churn['Day Mins'])[0], '& p-value ='\n",
    "      , pearsonr(churn['Day Charge'], churn['Day Mins'])[1])"
   ]
  },
  {
   "cell_type": "markdown",
   "id": "green-baseline",
   "metadata": {},
   "source": [
    "<hr style=\"border:2px solid gray\">"
   ]
  },
  {
   "cell_type": "markdown",
   "id": "charitable-distance",
   "metadata": {},
   "source": [
    "<div style=\"direction:rtl;\", align=\"justify\" ><h3>\n",
    "<span style='font-family:\"B Nazanin\"'>\n",
    "تقسیم داده ها به داده های آموزشی و تست برای بهره گیری از Naive Bayes Classifier برای پیش بینی متغیر churn نظیر هر مشتری با توجه به اطلاعاتی که از وی در دست داریم.\n",
    "در این قسمت متغیر های شماره تلفن و محل زندگی هر مشتری را از داده ها حذف می کنیم.\n",
    "تئوری بیز از احتمالات شرطی برای پیش بینی متغیر خروجی استفاده می کند و از دو فرض ساده کننده نیز استفاده می کند: مستقل بودن متغیر های ورودی از یکدیگر و تاثیر یکسان آن ها در متغیر خروجی.\n",
    "به دلیل وجود این فرض در تئوری بیز  تنها یکی از دو متغیر هایی که همبستگی قوی باهم داشتند را نگهداری می کنیم.\n",
    "<br> <br>\n",
    "    \n",
    "    \n",
    "https://herfee.ir/الگوریتم-naive-bayes-در-یادگیری-ماشین/"
   ]
  },
  {
   "cell_type": "code",
   "execution_count": 36,
   "id": "seventh-carter",
   "metadata": {},
   "outputs": [],
   "source": [
    "y = churn[['Churn']]\n",
    "x = churn.drop(columns=['Churn', 'Phone', 'State', 'Day Charge', 'Eve Charge', 'Night Charge', 'Intl Charge'])"
   ]
  },
  {
   "cell_type": "code",
   "execution_count": 37,
   "id": "toxic-seller",
   "metadata": {},
   "outputs": [
    {
     "data": {
      "text/html": [
       "<div>\n",
       "<style scoped>\n",
       "    .dataframe tbody tr th:only-of-type {\n",
       "        vertical-align: middle;\n",
       "    }\n",
       "\n",
       "    .dataframe tbody tr th {\n",
       "        vertical-align: top;\n",
       "    }\n",
       "\n",
       "    .dataframe thead th {\n",
       "        text-align: right;\n",
       "    }\n",
       "</style>\n",
       "<table border=\"1\" class=\"dataframe\">\n",
       "  <thead>\n",
       "    <tr style=\"text-align: right;\">\n",
       "      <th></th>\n",
       "      <th>Account Length</th>\n",
       "      <th>Area Code</th>\n",
       "      <th>Intl Plan</th>\n",
       "      <th>VMail Plan</th>\n",
       "      <th>VMail Message</th>\n",
       "      <th>Day Mins</th>\n",
       "      <th>Day Calls</th>\n",
       "      <th>Eve Mins</th>\n",
       "      <th>Eve Calls</th>\n",
       "      <th>Night Mins</th>\n",
       "      <th>Night Calls</th>\n",
       "      <th>Intl Mins</th>\n",
       "      <th>Intl Calls</th>\n",
       "      <th>CustServ Calls</th>\n",
       "      <th>Old Churn</th>\n",
       "      <th>Avg Mins</th>\n",
       "    </tr>\n",
       "  </thead>\n",
       "  <tbody>\n",
       "    <tr>\n",
       "      <th>0</th>\n",
       "      <td>128</td>\n",
       "      <td>415</td>\n",
       "      <td>no</td>\n",
       "      <td>yes</td>\n",
       "      <td>25</td>\n",
       "      <td>265.1</td>\n",
       "      <td>110</td>\n",
       "      <td>197.4</td>\n",
       "      <td>99</td>\n",
       "      <td>244.7</td>\n",
       "      <td>91</td>\n",
       "      <td>10.0</td>\n",
       "      <td>3</td>\n",
       "      <td>1</td>\n",
       "      <td>False.</td>\n",
       "      <td>179.30</td>\n",
       "    </tr>\n",
       "    <tr>\n",
       "      <th>1</th>\n",
       "      <td>107</td>\n",
       "      <td>415</td>\n",
       "      <td>no</td>\n",
       "      <td>yes</td>\n",
       "      <td>26</td>\n",
       "      <td>161.6</td>\n",
       "      <td>123</td>\n",
       "      <td>195.5</td>\n",
       "      <td>103</td>\n",
       "      <td>254.4</td>\n",
       "      <td>103</td>\n",
       "      <td>13.7</td>\n",
       "      <td>3</td>\n",
       "      <td>1</td>\n",
       "      <td>False.</td>\n",
       "      <td>156.30</td>\n",
       "    </tr>\n",
       "    <tr>\n",
       "      <th>2</th>\n",
       "      <td>137</td>\n",
       "      <td>415</td>\n",
       "      <td>no</td>\n",
       "      <td>no</td>\n",
       "      <td>0</td>\n",
       "      <td>243.4</td>\n",
       "      <td>114</td>\n",
       "      <td>121.2</td>\n",
       "      <td>110</td>\n",
       "      <td>162.6</td>\n",
       "      <td>104</td>\n",
       "      <td>12.2</td>\n",
       "      <td>5</td>\n",
       "      <td>0</td>\n",
       "      <td>False.</td>\n",
       "      <td>134.85</td>\n",
       "    </tr>\n",
       "    <tr>\n",
       "      <th>3</th>\n",
       "      <td>84</td>\n",
       "      <td>408</td>\n",
       "      <td>yes</td>\n",
       "      <td>no</td>\n",
       "      <td>0</td>\n",
       "      <td>299.4</td>\n",
       "      <td>71</td>\n",
       "      <td>61.9</td>\n",
       "      <td>88</td>\n",
       "      <td>196.9</td>\n",
       "      <td>89</td>\n",
       "      <td>6.6</td>\n",
       "      <td>7</td>\n",
       "      <td>2</td>\n",
       "      <td>False.</td>\n",
       "      <td>141.20</td>\n",
       "    </tr>\n",
       "    <tr>\n",
       "      <th>4</th>\n",
       "      <td>75</td>\n",
       "      <td>415</td>\n",
       "      <td>yes</td>\n",
       "      <td>no</td>\n",
       "      <td>0</td>\n",
       "      <td>166.7</td>\n",
       "      <td>113</td>\n",
       "      <td>148.3</td>\n",
       "      <td>122</td>\n",
       "      <td>186.9</td>\n",
       "      <td>121</td>\n",
       "      <td>10.1</td>\n",
       "      <td>3</td>\n",
       "      <td>3</td>\n",
       "      <td>False.</td>\n",
       "      <td>128.00</td>\n",
       "    </tr>\n",
       "  </tbody>\n",
       "</table>\n",
       "</div>"
      ],
      "text/plain": [
       "   Account Length  Area Code Intl Plan VMail Plan  VMail Message  Day Mins  \\\n",
       "0             128        415        no        yes             25     265.1   \n",
       "1             107        415        no        yes             26     161.6   \n",
       "2             137        415        no         no              0     243.4   \n",
       "3              84        408       yes         no              0     299.4   \n",
       "4              75        415       yes         no              0     166.7   \n",
       "\n",
       "   Day Calls  Eve Mins  Eve Calls  Night Mins  Night Calls  Intl Mins  \\\n",
       "0        110     197.4         99       244.7           91       10.0   \n",
       "1        123     195.5        103       254.4          103       13.7   \n",
       "2        114     121.2        110       162.6          104       12.2   \n",
       "3         71      61.9         88       196.9           89        6.6   \n",
       "4        113     148.3        122       186.9          121       10.1   \n",
       "\n",
       "   Intl Calls  CustServ Calls Old Churn  Avg Mins  \n",
       "0           3               1    False.    179.30  \n",
       "1           3               1    False.    156.30  \n",
       "2           5               0    False.    134.85  \n",
       "3           7               2    False.    141.20  \n",
       "4           3               3    False.    128.00  "
      ]
     },
     "execution_count": 37,
     "metadata": {},
     "output_type": "execute_result"
    }
   ],
   "source": [
    "x.head()"
   ]
  },
  {
   "cell_type": "code",
   "execution_count": 38,
   "id": "focused-payroll",
   "metadata": {},
   "outputs": [],
   "source": [
    "x = pd.get_dummies(x)"
   ]
  },
  {
   "cell_type": "code",
   "execution_count": 39,
   "id": "stunning-cruise",
   "metadata": {},
   "outputs": [
    {
     "data": {
      "text/html": [
       "<div>\n",
       "<style scoped>\n",
       "    .dataframe tbody tr th:only-of-type {\n",
       "        vertical-align: middle;\n",
       "    }\n",
       "\n",
       "    .dataframe tbody tr th {\n",
       "        vertical-align: top;\n",
       "    }\n",
       "\n",
       "    .dataframe thead th {\n",
       "        text-align: right;\n",
       "    }\n",
       "</style>\n",
       "<table border=\"1\" class=\"dataframe\">\n",
       "  <thead>\n",
       "    <tr style=\"text-align: right;\">\n",
       "      <th></th>\n",
       "      <th>Account Length</th>\n",
       "      <th>Area Code</th>\n",
       "      <th>VMail Message</th>\n",
       "      <th>Day Mins</th>\n",
       "      <th>Day Calls</th>\n",
       "      <th>Eve Mins</th>\n",
       "      <th>Eve Calls</th>\n",
       "      <th>Night Mins</th>\n",
       "      <th>Night Calls</th>\n",
       "      <th>Intl Mins</th>\n",
       "      <th>Intl Calls</th>\n",
       "      <th>CustServ Calls</th>\n",
       "      <th>Avg Mins</th>\n",
       "      <th>Intl Plan_no</th>\n",
       "      <th>Intl Plan_yes</th>\n",
       "      <th>VMail Plan_no</th>\n",
       "      <th>VMail Plan_yes</th>\n",
       "      <th>Old Churn_False.</th>\n",
       "      <th>Old Churn_True.</th>\n",
       "    </tr>\n",
       "  </thead>\n",
       "  <tbody>\n",
       "    <tr>\n",
       "      <th>0</th>\n",
       "      <td>128</td>\n",
       "      <td>415</td>\n",
       "      <td>25</td>\n",
       "      <td>265.1</td>\n",
       "      <td>110</td>\n",
       "      <td>197.4</td>\n",
       "      <td>99</td>\n",
       "      <td>244.7</td>\n",
       "      <td>91</td>\n",
       "      <td>10.0</td>\n",
       "      <td>3</td>\n",
       "      <td>1</td>\n",
       "      <td>179.30</td>\n",
       "      <td>1</td>\n",
       "      <td>0</td>\n",
       "      <td>0</td>\n",
       "      <td>1</td>\n",
       "      <td>1</td>\n",
       "      <td>0</td>\n",
       "    </tr>\n",
       "    <tr>\n",
       "      <th>1</th>\n",
       "      <td>107</td>\n",
       "      <td>415</td>\n",
       "      <td>26</td>\n",
       "      <td>161.6</td>\n",
       "      <td>123</td>\n",
       "      <td>195.5</td>\n",
       "      <td>103</td>\n",
       "      <td>254.4</td>\n",
       "      <td>103</td>\n",
       "      <td>13.7</td>\n",
       "      <td>3</td>\n",
       "      <td>1</td>\n",
       "      <td>156.30</td>\n",
       "      <td>1</td>\n",
       "      <td>0</td>\n",
       "      <td>0</td>\n",
       "      <td>1</td>\n",
       "      <td>1</td>\n",
       "      <td>0</td>\n",
       "    </tr>\n",
       "    <tr>\n",
       "      <th>2</th>\n",
       "      <td>137</td>\n",
       "      <td>415</td>\n",
       "      <td>0</td>\n",
       "      <td>243.4</td>\n",
       "      <td>114</td>\n",
       "      <td>121.2</td>\n",
       "      <td>110</td>\n",
       "      <td>162.6</td>\n",
       "      <td>104</td>\n",
       "      <td>12.2</td>\n",
       "      <td>5</td>\n",
       "      <td>0</td>\n",
       "      <td>134.85</td>\n",
       "      <td>1</td>\n",
       "      <td>0</td>\n",
       "      <td>1</td>\n",
       "      <td>0</td>\n",
       "      <td>1</td>\n",
       "      <td>0</td>\n",
       "    </tr>\n",
       "    <tr>\n",
       "      <th>3</th>\n",
       "      <td>84</td>\n",
       "      <td>408</td>\n",
       "      <td>0</td>\n",
       "      <td>299.4</td>\n",
       "      <td>71</td>\n",
       "      <td>61.9</td>\n",
       "      <td>88</td>\n",
       "      <td>196.9</td>\n",
       "      <td>89</td>\n",
       "      <td>6.6</td>\n",
       "      <td>7</td>\n",
       "      <td>2</td>\n",
       "      <td>141.20</td>\n",
       "      <td>0</td>\n",
       "      <td>1</td>\n",
       "      <td>1</td>\n",
       "      <td>0</td>\n",
       "      <td>1</td>\n",
       "      <td>0</td>\n",
       "    </tr>\n",
       "    <tr>\n",
       "      <th>4</th>\n",
       "      <td>75</td>\n",
       "      <td>415</td>\n",
       "      <td>0</td>\n",
       "      <td>166.7</td>\n",
       "      <td>113</td>\n",
       "      <td>148.3</td>\n",
       "      <td>122</td>\n",
       "      <td>186.9</td>\n",
       "      <td>121</td>\n",
       "      <td>10.1</td>\n",
       "      <td>3</td>\n",
       "      <td>3</td>\n",
       "      <td>128.00</td>\n",
       "      <td>0</td>\n",
       "      <td>1</td>\n",
       "      <td>1</td>\n",
       "      <td>0</td>\n",
       "      <td>1</td>\n",
       "      <td>0</td>\n",
       "    </tr>\n",
       "  </tbody>\n",
       "</table>\n",
       "</div>"
      ],
      "text/plain": [
       "   Account Length  Area Code  VMail Message  Day Mins  Day Calls  Eve Mins  \\\n",
       "0             128        415             25     265.1        110     197.4   \n",
       "1             107        415             26     161.6        123     195.5   \n",
       "2             137        415              0     243.4        114     121.2   \n",
       "3              84        408              0     299.4         71      61.9   \n",
       "4              75        415              0     166.7        113     148.3   \n",
       "\n",
       "   Eve Calls  Night Mins  Night Calls  Intl Mins  Intl Calls  CustServ Calls  \\\n",
       "0         99       244.7           91       10.0           3               1   \n",
       "1        103       254.4          103       13.7           3               1   \n",
       "2        110       162.6          104       12.2           5               0   \n",
       "3         88       196.9           89        6.6           7               2   \n",
       "4        122       186.9          121       10.1           3               3   \n",
       "\n",
       "   Avg Mins  Intl Plan_no  Intl Plan_yes  VMail Plan_no  VMail Plan_yes  \\\n",
       "0    179.30             1              0              0               1   \n",
       "1    156.30             1              0              0               1   \n",
       "2    134.85             1              0              1               0   \n",
       "3    141.20             0              1              1               0   \n",
       "4    128.00             0              1              1               0   \n",
       "\n",
       "   Old Churn_False.  Old Churn_True.  \n",
       "0                 1                0  \n",
       "1                 1                0  \n",
       "2                 1                0  \n",
       "3                 1                0  \n",
       "4                 1                0  "
      ]
     },
     "execution_count": 39,
     "metadata": {},
     "output_type": "execute_result"
    }
   ],
   "source": [
    "x.head()"
   ]
  },
  {
   "cell_type": "markdown",
   "id": "shaped-dimension",
   "metadata": {},
   "source": [
    "<div style=\"direction:rtl;\", align=\"justify\" ><h3>\n",
    "<span style='font-family:\"B Nazanin\"'>\n",
    "کل دیتاست را به دو دسته آموزش و تست تقسیم میکنیم به طوریکه 20 درصد از کل داده ها داده تست و 80 درصد دیگر داده یادگیری باشند."
   ]
  },
  {
   "cell_type": "code",
   "execution_count": 40,
   "id": "closing-distribution",
   "metadata": {},
   "outputs": [],
   "source": [
    "from sklearn.model_selection import train_test_split\n",
    "\n",
    "x_train, x_test, y_train, y_test = train_test_split(x, y, test_size = 0.2, random_state = 5)"
   ]
  },
  {
   "cell_type": "code",
   "execution_count": 41,
   "id": "excessive-aurora",
   "metadata": {},
   "outputs": [],
   "source": [
    "import numpy as np\n",
    "from sklearn.naive_bayes import MultinomialNB\n",
    "\n",
    "nby = np.ravel(y_train)\n",
    "nb_01 = MultinomialNB().fit(x_train, nby)"
   ]
  },
  {
   "cell_type": "code",
   "execution_count": 42,
   "id": "handmade-hampshire",
   "metadata": {},
   "outputs": [
    {
     "data": {
      "text/plain": [
       "array([[505,  70],\n",
       "       [ 18,  74]], dtype=int64)"
      ]
     },
     "execution_count": 42,
     "metadata": {},
     "output_type": "execute_result"
    }
   ],
   "source": [
    "from sklearn.metrics import confusion_matrix\n",
    "from sklearn.metrics import accuracy_score\n",
    "\n",
    "y_pred = nb_01.predict(x_test)\n",
    "c_mat = confusion_matrix(y_test, y_pred)\n",
    "c_mat"
   ]
  },
  {
   "cell_type": "code",
   "execution_count": 43,
   "id": "relevant-sally",
   "metadata": {},
   "outputs": [
    {
     "name": "stdout",
     "output_type": "stream",
     "text": [
      "TN = 505 \tTP = 74 \tFN = 18 \tFP = 70\n"
     ]
    }
   ],
   "source": [
    "print(\"TN =\",c_mat[0][0], \"\\tTP =\", c_mat[1][1],\"\\tFN =\", c_mat[1][0],\"\\tFP =\", c_mat[0][1])"
   ]
  },
  {
   "cell_type": "code",
   "execution_count": 44,
   "id": "national-perry",
   "metadata": {},
   "outputs": [
    {
     "name": "stdout",
     "output_type": "stream",
     "text": [
      "accuracy of prediction model =  86.80659670164917 %\n"
     ]
    }
   ],
   "source": [
    "print('accuracy of prediction model = ', accuracy_score(y_test,y_pred) * 100, '%')"
   ]
  },
  {
   "cell_type": "code",
   "execution_count": 45,
   "id": "growing-genome",
   "metadata": {},
   "outputs": [
    {
     "name": "stdout",
     "output_type": "stream",
     "text": [
      "              precision    recall  f1-score   support\n",
      "\n",
      "       False       0.97      0.88      0.92       575\n",
      "        True       0.51      0.80      0.63        92\n",
      "\n",
      "    accuracy                           0.87       667\n",
      "   macro avg       0.74      0.84      0.77       667\n",
      "weighted avg       0.90      0.87      0.88       667\n",
      "\n"
     ]
    }
   ],
   "source": [
    "from sklearn.metrics import classification_report\n",
    "\n",
    "print(classification_report(y_test, y_pred))"
   ]
  },
  {
   "cell_type": "markdown",
   "id": "pressed-burning",
   "metadata": {},
   "source": [
    "<hr style=\"border:2px solid gray\">"
   ]
  },
  {
   "cell_type": "markdown",
   "id": "light-lighting",
   "metadata": {},
   "source": [
    "<div style=\"direction:rtl;\", align=\"justify\" ><h3>\n",
    "<span style='font-family:\"B Nazanin\"'>\n",
    "در بخش زیر یک بازه اطمینان 95 درصد برای اختلاف میانگین Avg Mins افرادی که شرکت را ترک کرده اند و افرادی که ترک نکرده اند بدست آورده ایم براساس این نتیجه می توان گفت 95 درصد اطمینان داریم افرادی که سازمان را ترک کرده اند میانگین دقایق تماس آن ها 10.56 الی 14.81 دقیقه بیشتر از میانگین دقایق تماس کسانی بوده که سازمان را ترک نکرده اند."
   ]
  },
  {
   "cell_type": "code",
   "execution_count": 46,
   "id": "configured-administrator",
   "metadata": {},
   "outputs": [
    {
     "data": {
      "text/html": [
       "<div>\n",
       "<style scoped>\n",
       "    .dataframe tbody tr th:only-of-type {\n",
       "        vertical-align: middle;\n",
       "    }\n",
       "\n",
       "    .dataframe tbody tr th {\n",
       "        vertical-align: top;\n",
       "    }\n",
       "\n",
       "    .dataframe thead th {\n",
       "        text-align: right;\n",
       "    }\n",
       "</style>\n",
       "<table border=\"1\" class=\"dataframe\">\n",
       "  <thead>\n",
       "    <tr style=\"text-align: right;\">\n",
       "      <th></th>\n",
       "      <th>T</th>\n",
       "      <th>dof</th>\n",
       "      <th>tail</th>\n",
       "      <th>p-val</th>\n",
       "      <th>CI95%</th>\n",
       "      <th>cohen-d</th>\n",
       "      <th>BF10</th>\n",
       "      <th>power</th>\n",
       "    </tr>\n",
       "  </thead>\n",
       "  <tbody>\n",
       "    <tr>\n",
       "      <th>T-test</th>\n",
       "      <td>11.7</td>\n",
       "      <td>3331</td>\n",
       "      <td>two-sided</td>\n",
       "      <td>0.0</td>\n",
       "      <td>[10.56, 14.81]</td>\n",
       "      <td>0.58</td>\n",
       "      <td>4.389e+27</td>\n",
       "      <td>1.0</td>\n",
       "    </tr>\n",
       "  </tbody>\n",
       "</table>\n",
       "</div>"
      ],
      "text/plain": [
       "           T   dof       tail  p-val           CI95%  cohen-d       BF10  \\\n",
       "T-test  11.7  3331  two-sided    0.0  [10.56, 14.81]     0.58  4.389e+27   \n",
       "\n",
       "        power  \n",
       "T-test    1.0  "
      ]
     },
     "execution_count": 46,
     "metadata": {},
     "output_type": "execute_result"
    }
   ],
   "source": [
    "import pingouin as pg\n",
    "\n",
    "result = pg.ttest(x=churn[churn['Churn'] == True]['Avg Mins'], \n",
    "                  y=churn[churn['Churn'] == False]['Avg Mins'], correction=False).round(2)\n",
    "result"
   ]
  },
  {
   "cell_type": "markdown",
   "id": "above-moscow",
   "metadata": {},
   "source": [
    "<div style=\"direction:rtl;\", align=\"justify\" ><h3>\n",
    "<span style='font-family:\"B Nazanin\"'>\n",
    "در این قسمت نیز یک بازه اطمینان 95 درصد برای اختلاف میانگین تعداد تماس ها با واحد پشتیبانی برای افرادی که شرکت را ترک کرده اند و کسانی که ترک نکرده اند بدست آورده ایم. براساس این نتیجه می توان گفت 95 درصد اطمینان داریم میانگین تعداد تماس با واحد پشتیبانی افرادی که شرکت را ترک می کنند 0.66 الی 0.9 بیشتر از کسانی است که شرکت را ترک نکرده اند."
   ]
  },
  {
   "cell_type": "code",
   "execution_count": 47,
   "id": "greatest-national",
   "metadata": {},
   "outputs": [
    {
     "data": {
      "text/html": [
       "<div>\n",
       "<style scoped>\n",
       "    .dataframe tbody tr th:only-of-type {\n",
       "        vertical-align: middle;\n",
       "    }\n",
       "\n",
       "    .dataframe tbody tr th {\n",
       "        vertical-align: top;\n",
       "    }\n",
       "\n",
       "    .dataframe thead th {\n",
       "        text-align: right;\n",
       "    }\n",
       "</style>\n",
       "<table border=\"1\" class=\"dataframe\">\n",
       "  <thead>\n",
       "    <tr style=\"text-align: right;\">\n",
       "      <th></th>\n",
       "      <th>T</th>\n",
       "      <th>dof</th>\n",
       "      <th>tail</th>\n",
       "      <th>p-val</th>\n",
       "      <th>CI95%</th>\n",
       "      <th>cohen-d</th>\n",
       "      <th>BF10</th>\n",
       "      <th>power</th>\n",
       "    </tr>\n",
       "  </thead>\n",
       "  <tbody>\n",
       "    <tr>\n",
       "      <th>T-test</th>\n",
       "      <td>12.32</td>\n",
       "      <td>3331</td>\n",
       "      <td>two-sided</td>\n",
       "      <td>0.0</td>\n",
       "      <td>[0.66, 0.9]</td>\n",
       "      <td>0.61</td>\n",
       "      <td>5.531e+30</td>\n",
       "      <td>1.0</td>\n",
       "    </tr>\n",
       "  </tbody>\n",
       "</table>\n",
       "</div>"
      ],
      "text/plain": [
       "            T   dof       tail  p-val        CI95%  cohen-d       BF10  power\n",
       "T-test  12.32  3331  two-sided    0.0  [0.66, 0.9]     0.61  5.531e+30    1.0"
      ]
     },
     "execution_count": 47,
     "metadata": {},
     "output_type": "execute_result"
    }
   ],
   "source": [
    "import pingouin as pg\n",
    "\n",
    "result = pg.ttest(x=churn[churn['Churn'] == True]['CustServ Calls'], \n",
    "                  y=churn[churn['Churn'] == False]['CustServ Calls'], correction=False).round(2)\n",
    "result"
   ]
  },
  {
   "cell_type": "markdown",
   "id": "faced-airplane",
   "metadata": {},
   "source": [
    "<div style=\"direction:rtl;\", align=\"justify\" ><h3>\n",
    "<span style='font-family:\"B Nazanin\"'>\n",
    "نتیجه گیری : بسته international plan کارایی مناسبی نداشته و منجر به ترک بیشتر مشتریان شده است همچنین بسته voice mail plan بسته مفید و کارایی بوده و درصد ترک را نسبتا کاهش داده است. به علاوه افزایش تعداد تماس ها با واحد پشتیبانی منجر به ترک بیشتر شده است و لذا این اهمیت دارد که سازمان مراقب باشد برای کسانی که تعداد تماس آن ها با واحد پشتیبانی از 3 تماس بیشتر شده است یک طرح تشویقی و خدمات خاصی در نظر بگیرد تا بتواند مشتریان را نگه دارد. به علاوه مشخص شد میانگین دقایق تماس  کسانی که سازمان را ترک کرده اند با اطمینان 95 درصد 10 الی 14 دقیقه بیشتر از میانگین دقایق تماس کسانی بوده که همچنان از خدمات سازمان استفاده می کنند."
   ]
  }
 ],
 "metadata": {
  "kernelspec": {
   "display_name": "Python 3",
   "language": "python",
   "name": "python3"
  },
  "language_info": {
   "codemirror_mode": {
    "name": "ipython",
    "version": 3
   },
   "file_extension": ".py",
   "mimetype": "text/x-python",
   "name": "python",
   "nbconvert_exporter": "python",
   "pygments_lexer": "ipython3",
   "version": "3.7.1"
  }
 },
 "nbformat": 4,
 "nbformat_minor": 5
}
