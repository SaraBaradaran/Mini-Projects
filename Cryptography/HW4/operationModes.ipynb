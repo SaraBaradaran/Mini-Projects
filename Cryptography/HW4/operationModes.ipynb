{
 "cells": [
  {
   "cell_type": "markdown",
   "metadata": {},
   "source": [
    "# Modes of operation:"
   ]
  },
  {
   "cell_type": "code",
   "execution_count": 1,
   "metadata": {},
   "outputs": [],
   "source": [
    "from AES import AES"
   ]
  },
  {
   "cell_type": "markdown",
   "metadata": {},
   "source": [
    "In the following segment, we initialize the values associated with our block cipher. these values include a 96bit long IV and a 128bit long key."
   ]
  },
  {
   "cell_type": "code",
   "execution_count": 2,
   "metadata": {},
   "outputs": [],
   "source": [
    "IV = 0x3243f6a8885a308d313198a2\n",
    "master_key = 0x2b7e151628aed2a6abf7158809cf4f3c\n",
    "AES = AES(master_key)"
   ]
  },
  {
   "cell_type": "markdown",
   "metadata": {},
   "source": [
    "The following function splits the raw input strings into chunks of 128bit long numbers, which are ready to be encrypted by our block cipher.\n",
    "To encrypt each block, in the array of blocks, just call the method AES.encrypt(block). The output of this method is an encrypted 128bit long number."
   ]
  },
  {
   "cell_type": "code",
   "execution_count": 3,
   "metadata": {},
   "outputs": [],
   "source": [
    "def processMessage(string):\n",
    "    blocks = [string[i:i + (16 if (i+16) <= len(string) else len(string)-i)] for i in range(0, len(string), 16)]\n",
    "    for i in range(len(blocks)):\n",
    "        blocks[i] = int('0x'+''.join(hex(ord(c))[2:] for c in blocks[i]),16)\n",
    "    return blocks"
   ]
  },
  {
   "cell_type": "markdown",
   "metadata": {},
   "source": [
    "The ensuing function gets the 128bit long integer blocks outputted by each decryption function, and extracts the overall alphanumeric string related to them."
   ]
  },
  {
   "cell_type": "code",
   "execution_count": 4,
   "metadata": {},
   "outputs": [],
   "source": [
    "def processBlocks(blocks):\n",
    "    plaintext = ''\n",
    "    for decrypted in blocks:\n",
    "        decrypted = hex(decrypted)\n",
    "        decrypted = [decrypted[i:i+2] for i in range(2,len(decrypted),2)]\n",
    "        decrypted = [chr(int(c,16)) for c in decrypted]\n",
    "        plaintext += ''.join(decrypted)\n",
    "    return plaintext"
   ]
  },
  {
   "cell_type": "markdown",
   "metadata": {},
   "source": [
    "The input to the below function consists of the output blocks of the processMessage function. Write a code for the implementation of the ECB encryption mode. don't forget to adjust the return value to your needs."
   ]
  },
  {
   "cell_type": "code",
   "execution_count": 5,
   "metadata": {},
   "outputs": [],
   "source": [
    "def encryptECB(message):\n",
    "    print('ECB')\n",
    "    cipher = []\n",
    "    for i in message:\n",
    "        cipher. append(AES.encrypt(i))\n",
    "    return cipher"
   ]
  },
  {
   "cell_type": "markdown",
   "metadata": {},
   "source": [
    "The input to the below function consists of the output blocks of the encryptECB function. Write a code for the implementation of the ECB decryption mode. don't forget to adjust the return value to your needs. to decrypt a block call the method AES.decrypt(block). The output of this method is an decrypted 128bit long number."
   ]
  },
  {
   "cell_type": "code",
   "execution_count": 6,
   "metadata": {},
   "outputs": [],
   "source": [
    "def decryptECB(message):\n",
    "    plain = []\n",
    "    for i in message:\n",
    "        plain.append(AES.decrypt(i))\n",
    "    return plain"
   ]
  },
  {
   "cell_type": "markdown",
   "metadata": {},
   "source": [
    "The input to the below function consists of the output blocks of the processMessage function. Write a code for the implementation of the CBC encryption mode. don't forget to adjust the return value to your needs."
   ]
  },
  {
   "cell_type": "code",
   "execution_count": 7,
   "metadata": {},
   "outputs": [],
   "source": [
    "def encryptCBC(message):\n",
    "    print('CBC')\n",
    "    cipher = []\n",
    "    for i in range (0,len(message)):\n",
    "        if(i == 0):\n",
    "            cipher.append(AES.encrypt(message[i] ^ IV))\n",
    "        else:\n",
    "            cipher.append(AES.encrypt(message[i] ^ cipher[i-1]))\n",
    "            \n",
    "    return cipher"
   ]
  },
  {
   "cell_type": "markdown",
   "metadata": {},
   "source": [
    "The input to the below function consists of the output blocks of the encryptCBC function. Write a code for the implementation of the CBC decryption mode. don't forget to adjust the return value to your needs."
   ]
  },
  {
   "cell_type": "code",
   "execution_count": 8,
   "metadata": {},
   "outputs": [],
   "source": [
    "def decryptCBC(message):\n",
    "    plain = []\n",
    "    for i in range (0,len(message)):\n",
    "        if(i == 0):\n",
    "            plain.append(AES.decrypt(message[i]) ^ IV)\n",
    "        else:\n",
    "            plain.append(AES.decrypt(message[i]) ^ message[i-1])\n",
    "    \n",
    "    return plain"
   ]
  },
  {
   "cell_type": "markdown",
   "metadata": {},
   "source": [
    "The input to the below function consists of the output blocks of the processMessage function. Write a code for the implementation of the OFB encryption mode. don't forget to adjust the return value to your needs."
   ]
  },
  {
   "cell_type": "code",
   "execution_count": 9,
   "metadata": {},
   "outputs": [],
   "source": [
    "def encryptOFB(message):\n",
    "    print('OFB')\n",
    "    cipher = []\n",
    "    s = []\n",
    "    for i in range (0,len(message)):\n",
    "        if(i == 0):\n",
    "            s.append(AES.encrypt(IV))\n",
    "            cipher.append(s[i] ^ message[i])\n",
    "        else:\n",
    "            s.append(AES.encrypt(s[i-1]))\n",
    "            cipher.append(s[i] ^ message[i])\n",
    "            \n",
    "    return cipher"
   ]
  },
  {
   "cell_type": "markdown",
   "metadata": {},
   "source": [
    "The input to the below function consists of the output blocks of the encryptOFB function. Write a code for the implementation of the OFB decryption mode. don't forget to adjust the return value to your needs."
   ]
  },
  {
   "cell_type": "code",
   "execution_count": 10,
   "metadata": {},
   "outputs": [],
   "source": [
    "def decryptOFB(message):\n",
    "    plain = []\n",
    "    s = []\n",
    "    for i in range (0,len(message)):\n",
    "        if(i == 0):\n",
    "            s.append(AES.encrypt(IV))\n",
    "            plain.append(s[i] ^ message[i])\n",
    "        else:\n",
    "            s.append(AES.encrypt(s[i-1]))\n",
    "            plain.append(s[i] ^ message[i])\n",
    "    \n",
    "    return plain"
   ]
  },
  {
   "cell_type": "markdown",
   "metadata": {},
   "source": [
    "The input to the below function consists of the output blocks of the processMessage function. Write a code for the implementation of the CFB encryption mode. don't forget to adjust the return value to your needs."
   ]
  },
  {
   "cell_type": "code",
   "execution_count": 11,
   "metadata": {},
   "outputs": [],
   "source": [
    "def encryptCFB(message):\n",
    "    print('CFB')\n",
    "    cipher = []\n",
    "    for i in range (0,len(message)):\n",
    "        if(i == 0):\n",
    "            cipher.append(AES.encrypt(IV) ^ message[i])\n",
    "        else:\n",
    "            cipher.append(AES.encrypt(cipher[i-1]) ^ message[i])\n",
    "  \n",
    "    return cipher"
   ]
  },
  {
   "cell_type": "markdown",
   "metadata": {},
   "source": [
    "The input to the below function consists of the output blocks of the encryptCFB function. Write a code for the implementation of the CFB decryption mode. don't forget to adjust the return value to your needs."
   ]
  },
  {
   "cell_type": "code",
   "execution_count": 12,
   "metadata": {},
   "outputs": [],
   "source": [
    "def decryptCFB(message):\n",
    "    plain = []\n",
    "    s = []\n",
    "    for i in range(0,len(message)):\n",
    "        if(i == 0):\n",
    "            s.append(AES.encrypt(IV))\n",
    "            plain.append(s[i] ^ message[i])\n",
    "        else:\n",
    "            s.append(AES.encrypt(message[i-1]))\n",
    "            plain.append(s[i] ^ message[i])\n",
    "    \n",
    "    return plain"
   ]
  },
  {
   "cell_type": "markdown",
   "metadata": {},
   "source": [
    "The input to the below function consists of the output blocks of the processMessage function. Write a code for the implementation of the CTR encryption mode. don't forget to adjust the return value to your needs. Suppose the counter is a regular one starting from 0."
   ]
  },
  {
   "cell_type": "code",
   "execution_count": 13,
   "metadata": {},
   "outputs": [],
   "source": [
    "def encryptCTR(message):\n",
    "    print('CTR')\n",
    "    counter = 0x00000000\n",
    "    cipher = []\n",
    "    for i in message:\n",
    "        cipher.append(AES.encrypt(IV << 32 |counter) ^ i)\n",
    "        counter += 1\n",
    "    \n",
    "    return cipher"
   ]
  },
  {
   "cell_type": "markdown",
   "metadata": {},
   "source": [
    "The input to the below function consists of the output blocks of the encryptCTR function. Write a code for the implementation of the CTR decryption mode. don't forget to adjust the return value to your needs.Suppose the counter is a regular one starting from 0."
   ]
  },
  {
   "cell_type": "code",
   "execution_count": 14,
   "metadata": {},
   "outputs": [],
   "source": [
    "def decryptCTR(message):\n",
    "    counter = 0x00000000\n",
    "    plain = []\n",
    "    for i in message:\n",
    "        plain.append(AES.encrypt(IV << 32 |counter) ^ i)\n",
    "        counter += 1\n",
    "    \n",
    "    return plain"
   ]
  },
  {
   "cell_type": "markdown",
   "metadata": {},
   "source": [
    "Here, enter a desired line of input to be tested."
   ]
  },
  {
   "cell_type": "code",
   "execution_count": 15,
   "metadata": {},
   "outputs": [
    {
     "name": "stdout",
     "output_type": "stream",
     "text": [
      "please enter a line to start encryption:hello world\n"
     ]
    }
   ],
   "source": [
    "string = input('please enter a line to start encryption:')\n",
    "blocks = processMessage(string)"
   ]
  },
  {
   "cell_type": "markdown",
   "metadata": {},
   "source": [
    "In the following parts, functions are called in the appropriate order. Please do not change these parts."
   ]
  },
  {
   "cell_type": "code",
   "execution_count": 16,
   "metadata": {},
   "outputs": [
    {
     "name": "stdout",
     "output_type": "stream",
     "text": [
      "ECB\n",
      "hello world\n"
     ]
    }
   ],
   "source": [
    "encrypted = encryptECB(blocks)\n",
    "decrypted = decryptECB(encrypted)\n",
    "plaintext = processBlocks(decrypted)\n",
    "print(plaintext)"
   ]
  },
  {
   "cell_type": "code",
   "execution_count": 17,
   "metadata": {},
   "outputs": [
    {
     "name": "stdout",
     "output_type": "stream",
     "text": [
      "CBC\n",
      "hello world\n"
     ]
    }
   ],
   "source": [
    "encrypted = encryptCBC(blocks)\n",
    "decrypted = decryptCBC(encrypted)\n",
    "plaintext = processBlocks(decrypted)\n",
    "print(plaintext)"
   ]
  },
  {
   "cell_type": "code",
   "execution_count": 18,
   "metadata": {},
   "outputs": [
    {
     "name": "stdout",
     "output_type": "stream",
     "text": [
      "OFB\n",
      "hello world\n"
     ]
    }
   ],
   "source": [
    "encrypted = encryptOFB(blocks)\n",
    "decrypted = decryptOFB(encrypted)\n",
    "plaintext = processBlocks(decrypted)\n",
    "print(plaintext)"
   ]
  },
  {
   "cell_type": "code",
   "execution_count": 19,
   "metadata": {},
   "outputs": [
    {
     "name": "stdout",
     "output_type": "stream",
     "text": [
      "CFB\n",
      "hello world\n"
     ]
    }
   ],
   "source": [
    "encrypted = encryptCFB(blocks)\n",
    "decrypted = decryptCFB(encrypted)\n",
    "plaintext = processBlocks(decrypted)\n",
    "print(plaintext)"
   ]
  },
  {
   "cell_type": "code",
   "execution_count": 20,
   "metadata": {},
   "outputs": [
    {
     "name": "stdout",
     "output_type": "stream",
     "text": [
      "CTR\n",
      "hello world\n"
     ]
    }
   ],
   "source": [
    "encrypted = encryptCTR(blocks)\n",
    "decrypted = decryptCTR(encrypted)\n",
    "plaintext = processBlocks(decrypted)\n",
    "print(plaintext)"
   ]
  },
  {
   "cell_type": "code",
   "execution_count": null,
   "metadata": {},
   "outputs": [],
   "source": []
  }
 ],
 "metadata": {
  "kernelspec": {
   "display_name": "Python 3",
   "language": "python",
   "name": "python3"
  },
  "language_info": {
   "codemirror_mode": {
    "name": "ipython",
    "version": 3
   },
   "file_extension": ".py",
   "mimetype": "text/x-python",
   "name": "python",
   "nbconvert_exporter": "python",
   "pygments_lexer": "ipython3",
   "version": "3.7.1"
  }
 },
 "nbformat": 4,
 "nbformat_minor": 2
}
