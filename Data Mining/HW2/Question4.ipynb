{
 "cells": [
  {
   "cell_type": "code",
   "execution_count": 44,
   "metadata": {},
   "outputs": [],
   "source": [
    "from sklearn.preprocessing import MinMaxScaler\n",
    "from sklearn.preprocessing import StandardScaler\n",
    "from sklearn.preprocessing import normalize\n",
    "from sklearn.impute import SimpleImputer\n",
    "import pandas as pd  \n",
    "import numpy as np\n",
    "# Question 4\n",
    "df = pd.read_csv(\"Diabetes.csv\")\n",
    "\n",
    "for col in df.columns:   \n",
    "    x=pd.to_numeric(df[col], errors='coerce')\n",
    "    idx = x.isna()\n",
    "    seen = set()\n",
    "    uniq = [x for x in df[idx][col] if x not in seen and not seen.add(x)]\n",
    "    for j in df[idx][col]:\n",
    "        df[col] = df[col].replace({j : np.NaN})\n",
    "# 4-b\n",
    "MyDataFram = df.copy()\n",
    "imp = SimpleImputer(missing_values=np.nan, strategy='mean')\n",
    "imp.fit(MyDataFram)\n",
    "my_array = imp.transform(MyDataFram)\n",
    "MyDataFram = pd.DataFrame(my_array, columns = df.columns)\n",
    "\n",
    "# 4-c MinMaxScaler\n",
    "MyDataFram_MinMaxScaler = MyDataFram.copy()\n",
    "scaler = MinMaxScaler()\n",
    "a = MyDataFram_MinMaxScaler.columns\n",
    "MyDataFram_MinMaxScaler[a] = scaler.fit_transform(MyDataFram_MinMaxScaler[a])\n",
    "\n",
    "# 4-c StandardScaler\n",
    "MyDataFram_StandardScaler = MyDataFram.copy()\n",
    "ss = StandardScaler()\n",
    "MyDataFram_StandardScaler = pd.DataFrame(ss.fit_transform(MyDataFram_StandardScaler),columns = MyDataFram_StandardScaler.columns)\n",
    "\n",
    "# 4-c Normalize\n",
    "MyDataFram_Normalize = MyDataFram.copy()\n",
    "MyDataFram_Normalize = pd.DataFrame(normalize(MyDataFram_Normalize),columns = MyDataFram_Normalize.columns)\n"
   ]
  },
  {
   "cell_type": "code",
   "execution_count": 42,
   "metadata": {},
   "outputs": [
    {
     "data": {
      "text/plain": [
       "<a list of 10 Patch objects>"
      ]
     },
     "execution_count": 42,
     "metadata": {},
     "output_type": "execute_result"
    },
    {
     "data": {
      "image/png": "[encoded data removed]",
      "text/plain": [
       "<Figure size 432x288 with 1 Axes>"
      ]
     },
     "metadata": {
      "needs_background": "light"
     },
     "output_type": "display_data"
    }
   ],
   "source": [
    "import matplotlib.pyplot as plt\n",
    "# 4-d\n",
    "plt.hist(MyDataFram_MinMaxScaler['Glucose'], alpha=0.5)\n",
    "plt.hist(MyDataFram_Normalize['Glucose'], alpha=0.5)[2]"
   ]
  },
  {
   "cell_type": "code",
   "execution_count": 36,
   "metadata": {},
   "outputs": [
    {
     "data": {
      "text/plain": [
       "<matplotlib.axes._subplots.AxesSubplot at 0x22331d6fdd8>"
      ]
     },
     "execution_count": 36,
     "metadata": {},
     "output_type": "execute_result"
    },
    {
     "data": {
      "image/png": "[encoded data removed]",
      "text/plain": [
       "<Figure size 1440x360 with 2 Axes>"
      ]
     },
     "metadata": {
      "needs_background": "light"
     },
     "output_type": "display_data"
    }
   ],
   "source": [
    "import matplotlib.pyplot as plt\n",
    "fig, ax = plt.subplots(1, 2, sharex='col', sharey='row',figsize=(20,5))\n",
    "MyDataFram_Normalize['Glucose'].plot(kind='hist',title=\"Normalize\" , ax=ax[0])\n",
    "MyDataFram_MinMaxScaler['Glucose'].plot(kind='hist',title=\"MinMaxScaler\",ax=ax[1] )"
   ]
  },
  {
   "cell_type": "code",
   "execution_count": null,
   "metadata": {},
   "outputs": [],
   "source": []
  }
 ],
 "metadata": {
  "kernelspec": {
   "display_name": "Python 3",
   "language": "python",
   "name": "python3"
  },
  "language_info": {
   "codemirror_mode": {
    "name": "ipython",
    "version": 3
   },
   "file_extension": ".py",
   "mimetype": "text/x-python",
   "name": "python",
   "nbconvert_exporter": "python",
   "pygments_lexer": "ipython3",
   "version": "3.7.1"
  }
 },
 "nbformat": 4,
 "nbformat_minor": 2
}
