{
 "cells": [
  {
   "cell_type": "code",
   "execution_count": 1,
   "metadata": {},
   "outputs": [
    {
     "name": "stdout",
     "output_type": "stream",
     "text": [
      "NULL representations in column Pregnancies []\n",
      "NULL representations in column Glucose [nan, 'MISS', \"''\", '?']\n",
      "NULL representations in column BloodPressure [nan, nan]\n",
      "NULL representations in column SkinThickness ['MISS', \"''\", '?']\n",
      "NULL representations in column Insulin [nan, \"''\", '?']\n",
      "NULL representations in column BMI [nan, 'MISS']\n",
      "NULL representations in column DiabetesPedigreeFunction ['MISS']\n",
      "NULL representations in column Age [nan, '?']\n",
      "NULL representations in column Outcome [nan, 'MISS', \"''\"]\n",
      "\n",
      "The number of null values in each column:\n",
      "Pregnancies                  0\n",
      "Glucose                     16\n",
      "BloodPressure                2\n",
      "SkinThickness                4\n",
      "Insulin                      4\n",
      "BMI                          2\n",
      "DiabetesPedigreeFunction     1\n",
      "Age                          5\n",
      "Outcome                      5\n",
      "dtype: int64\n"
     ]
    }
   ],
   "source": [
    "import pandas as pd  \n",
    "import numpy as np\n",
    "# Question 2\n",
    "df = pd.read_csv(\"Diabetes.csv\")\n",
    "\n",
    "for col in df.columns:   \n",
    "    x=pd.to_numeric(df[col], errors='coerce')\n",
    "    idx = x.isna()\n",
    "    seen = set()\n",
    "    uniq = [x for x in df[idx][col] if x not in seen and not seen.add(x)]\n",
    "    print('NULL representations in column', col, uniq)\n",
    "    for j in df[idx][col]:\n",
    "        df[col] = df[col].replace({j : np.NaN})\n",
    "\n",
    "print('\\nThe number of null values in each column:')\n",
    "print(df.isna().sum())"
   ]
  },
  {
   "cell_type": "code",
   "execution_count": null,
   "metadata": {},
   "outputs": [],
   "source": []
  }
 ],
 "metadata": {
  "kernelspec": {
   "display_name": "Python 3",
   "language": "python",
   "name": "python3"
  },
  "language_info": {
   "codemirror_mode": {
    "name": "ipython",
    "version": 3
   },
   "file_extension": ".py",
   "mimetype": "text/x-python",
   "name": "python",
   "nbconvert_exporter": "python",
   "pygments_lexer": "ipython3",
   "version": "3.7.1"
  }
 },
 "nbformat": 4,
 "nbformat_minor": 2
}
