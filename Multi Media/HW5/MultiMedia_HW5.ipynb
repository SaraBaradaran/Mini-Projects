{
 "cells": [
  {
   "cell_type": "markdown",
   "id": "assisted-centre",
   "metadata": {},
   "source": [
    "<div align='center' style='font-family:\"B Nazanin\"'>\n",
    "<h1> تکلیف سری پنجم درس سیستم های چندرسانه ای </h1>\n",
    "<h2> سارا برادران - شماره دانشجویی : 9624193 </h2>\n",
    "</div>"
   ]
  },
  {
   "cell_type": "code",
   "execution_count": 1,
   "id": "dangerous-humidity",
   "metadata": {},
   "outputs": [
    {
     "name": "stdout",
     "output_type": "stream",
     "text": [
      "Populating the interactive namespace from numpy and matplotlib\n"
     ]
    }
   ],
   "source": [
    "%pylab tk "
   ]
  },
  {
   "cell_type": "code",
   "execution_count": 2,
   "id": "textile-version",
   "metadata": {},
   "outputs": [],
   "source": [
    "import cv2\n",
    "import numpy as np\n",
    "from matplotlib import pyplot as plt"
   ]
  },
  {
   "cell_type": "code",
   "execution_count": 3,
   "id": "herbal-status",
   "metadata": {},
   "outputs": [],
   "source": [
    "def Show_Images(img_list, label, fig_size):\n",
    "    \n",
    "    img_num = len(img_list)\n",
    "    if img_num == 1:\n",
    "        plt.figure(figsize=fig_size) \n",
    "        plt.imshow(cv2.cvtColor(img_list[0], cv2.COLOR_BGR2RGB))\n",
    "        plt.title(\"{}\\n{}\".format(label[0], img_list[0].shape[0:2]))\n",
    "    \n",
    "    else:\n",
    "        fig, ax = plt.subplots(1, img_num, figsize=fig_size)\n",
    "        for i in range(img_num):\n",
    "            ax[i].imshow(cv2.cvtColor(img_list[i], cv2.COLOR_BGR2RGB))\n",
    "            ax[i].set_title(\"{}\\n{}\".format(label[i], img_list[i].shape[0:2]))\n",
    "        \n",
    "    plt.show()"
   ]
  },
  {
   "cell_type": "code",
   "execution_count": 4,
   "id": "handled-rings",
   "metadata": {},
   "outputs": [],
   "source": [
    "img_path = r'Pics\\pic.bmp'\n",
    "src_img = cv2.imread(img_path)"
   ]
  },
  {
   "cell_type": "code",
   "execution_count": 5,
   "id": "partial-empty",
   "metadata": {},
   "outputs": [],
   "source": [
    "def Color_Change(src_img, w, point, new_color=[255, 0, 0]):\n",
    "    \n",
    "    # Size of the image in pixels (size of original image)\n",
    "    height = src_img.shape[0]\n",
    "    width  = src_img.shape[1]\n",
    "    \n",
    "    new_img = src_img.copy()\n",
    "    src_img = src_img.astype(int)\n",
    "\n",
    "    sample_point = src_img[point[0]][point[1]]\n",
    "    \n",
    "    for i in range(height):\n",
    "        for j in range(width):\n",
    "            flag = True\n",
    "            for RGB in range(3):\n",
    "                difference = src_img[i][j][RGB] - sample_point[RGB]\n",
    "                if abs(difference) > w: flag = False; break\n",
    "\n",
    "            if flag:\n",
    "                new_img[i][j] = new_color\n",
    "\n",
    "    return new_img"
   ]
  },
  {
   "cell_type": "code",
   "execution_count": 6,
   "id": "upper-april",
   "metadata": {},
   "outputs": [
    {
     "name": "stdout",
     "output_type": "stream",
     "text": [
      "The point = (44, 188)\n",
      "Populating the interactive namespace from numpy and matplotlib\n"
     ]
    },
    {
     "data": {
      "image/png": "[encoded data removed]",
      "text/plain": [
       "<Figure size 1080x1080 with 2 Axes>"
      ]
     },
     "metadata": {
      "needs_background": "light"
     },
     "output_type": "display_data"
    }
   ],
   "source": [
    "plt.figure(figsize=(15,15)) \n",
    "plt.imshow(cv2.cvtColor(src_img, cv2.COLOR_BGR2RGB))\n",
    "\n",
    "in_point = plt.ginput(1)\n",
    "in_point = tuple(map(int, in_point[0]))\n",
    "in_point = (in_point[1], in_point[0])\n",
    "print('The point = {}'.format(in_point))\n",
    "new_img = Color_Change(src_img, w=50, point=in_point, new_color=[0, 255, 0])\n",
    "\n",
    "%pylab inline\n",
    "# Show the image with matplotlib\n",
    "Show_Images(img_list=[src_img, new_img], \n",
    "            label=['Original Image', 'Changed Image'], \n",
    "            fig_size=(15,15))"
   ]
  }
 ],
 "metadata": {
  "kernelspec": {
   "display_name": "Python 3",
   "language": "python",
   "name": "python3"
  },
  "language_info": {
   "codemirror_mode": {
    "name": "ipython",
    "version": 3
   },
   "file_extension": ".py",
   "mimetype": "text/x-python",
   "name": "python",
   "nbconvert_exporter": "python",
   "pygments_lexer": "ipython3",
   "version": "3.7.1"
  }
 },
 "nbformat": 4,
 "nbformat_minor": 5
}
