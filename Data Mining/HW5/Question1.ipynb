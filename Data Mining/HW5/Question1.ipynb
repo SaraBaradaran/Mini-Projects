{
 "cells": [
  {
   "cell_type": "code",
   "execution_count": 1,
   "id": "assigned-graphics",
   "metadata": {},
   "outputs": [
    {
     "data": {
      "text/html": [
       "<div>\n",
       "<style scoped>\n",
       "    .dataframe tbody tr th:only-of-type {\n",
       "        vertical-align: middle;\n",
       "    }\n",
       "\n",
       "    .dataframe tbody tr th {\n",
       "        vertical-align: top;\n",
       "    }\n",
       "\n",
       "    .dataframe thead th {\n",
       "        text-align: right;\n",
       "    }\n",
       "</style>\n",
       "<table border=\"1\" class=\"dataframe\">\n",
       "  <thead>\n",
       "    <tr style=\"text-align: right;\">\n",
       "      <th></th>\n",
       "      <th>X1</th>\n",
       "      <th>X2</th>\n",
       "      <th>Class</th>\n",
       "    </tr>\n",
       "  </thead>\n",
       "  <tbody>\n",
       "    <tr>\n",
       "      <th>0</th>\n",
       "      <td>1.204442</td>\n",
       "      <td>3.576114</td>\n",
       "      <td>0</td>\n",
       "    </tr>\n",
       "    <tr>\n",
       "      <th>1</th>\n",
       "      <td>0.158710</td>\n",
       "      <td>-1.482171</td>\n",
       "      <td>0</td>\n",
       "    </tr>\n",
       "    <tr>\n",
       "      <th>2</th>\n",
       "      <td>0.095247</td>\n",
       "      <td>-1.279955</td>\n",
       "      <td>0</td>\n",
       "    </tr>\n",
       "    <tr>\n",
       "      <th>3</th>\n",
       "      <td>0.349178</td>\n",
       "      <td>-2.064380</td>\n",
       "      <td>0</td>\n",
       "    </tr>\n",
       "    <tr>\n",
       "      <th>4</th>\n",
       "      <td>0.694150</td>\n",
       "      <td>2.889109</td>\n",
       "      <td>0</td>\n",
       "    </tr>\n",
       "  </tbody>\n",
       "</table>\n",
       "</div>"
      ],
      "text/plain": [
       "         X1        X2  Class\n",
       "0  1.204442  3.576114      0\n",
       "1  0.158710 -1.482171      0\n",
       "2  0.095247 -1.279955      0\n",
       "3  0.349178 -2.064380      0\n",
       "4  0.694150  2.889109      0"
      ]
     },
     "metadata": {},
     "output_type": "display_data"
    }
   ],
   "source": [
    "import pandas as pd\n",
    "\n",
    "# Question 1\n",
    "# 1_a\n",
    "\n",
    "Flower = pd.read_csv('Flower.csv')\n",
    "display(Flower.head())"
   ]
  },
  {
   "cell_type": "code",
   "execution_count": 2,
   "id": "egyptian-accreditation",
   "metadata": {},
   "outputs": [
    {
     "name": "stdout",
     "output_type": "stream",
     "text": [
      "<class 'pandas.core.frame.DataFrame'>\n",
      "RangeIndex: 400 entries, 0 to 399\n",
      "Data columns (total 3 columns):\n",
      " #   Column  Non-Null Count  Dtype  \n",
      "---  ------  --------------  -----  \n",
      " 0   X1      400 non-null    float64\n",
      " 1   X2      400 non-null    float64\n",
      " 2   Class   400 non-null    int64  \n",
      "dtypes: float64(2), int64(1)\n",
      "memory usage: 9.5 KB\n"
     ]
    }
   ],
   "source": [
    "Flower.info()"
   ]
  },
  {
   "cell_type": "code",
   "execution_count": 3,
   "id": "dressed-freight",
   "metadata": {},
   "outputs": [
    {
     "data": {
      "text/plain": [
       "X1       0\n",
       "X2       0\n",
       "Class    0\n",
       "dtype: int64"
      ]
     },
     "metadata": {},
     "output_type": "display_data"
    }
   ],
   "source": [
    "# 1_b\n",
    "\n",
    "# find the number of null values and missing values in each column\n",
    "for col in Flower.columns:\n",
    "    if Flower[col].dtype == 'float64':\n",
    "        x = pd.to_numeric(Flower[col], errors='coerce')\n",
    "        idx = x.isna()\n",
    "        seen = set()\n",
    "        uniq = [x for x in Flower[idx][col] if x not in seen and not seen.add(x)]\n",
    "        for j in Flower[idx][col]:\n",
    "            Flower[col] = Flower[col].replace({j : np.NaN})\n",
    "        \n",
    "display(Flower.isna().sum())"
   ]
  },
  {
   "cell_type": "code",
   "execution_count": 4,
   "id": "joined-guidance",
   "metadata": {},
   "outputs": [
    {
     "name": "stdout",
     "output_type": "stream",
     "text": [
      "X1 \t ( min =  -4.211898112302497  max =  4.078165875644617 )\n",
      "\n",
      "X2 \t ( min =  -4.035124003739587  max =  4.037643470481511 )\n",
      "\n",
      "Class \t ( min =  0  max =  1 )\n",
      "\n"
     ]
    },
    {
     "data": {
      "text/plain": [
       "<AxesSubplot:>"
      ]
     },
     "execution_count": 4,
     "metadata": {},
     "output_type": "execute_result"
    },
    {
     "data": {
      "image/png": "[encoded data removed]",
      "text/plain": [
       "<Figure size 432x288 with 1 Axes>"
      ]
     },
     "metadata": {
      "needs_background": "light"
     },
     "output_type": "display_data"
    }
   ],
   "source": [
    "for col in Flower.columns:\n",
    "    print ( col, '\\t ( min = ', Flower[col].min(), ' max = ', Flower[col].max(), ')\\n')\n",
    "\n",
    "Flower['X1'].hist(alpha = 0.5)\n",
    "Flower['X2'].hist(alpha = 0.5)"
   ]
  },
  {
   "cell_type": "code",
   "execution_count": 5,
   "id": "funded-skill",
   "metadata": {},
   "outputs": [
    {
     "data": {
      "text/html": [
       "<div>\n",
       "<style scoped>\n",
       "    .dataframe tbody tr th:only-of-type {\n",
       "        vertical-align: middle;\n",
       "    }\n",
       "\n",
       "    .dataframe tbody tr th {\n",
       "        vertical-align: top;\n",
       "    }\n",
       "\n",
       "    .dataframe thead th {\n",
       "        text-align: right;\n",
       "    }\n",
       "</style>\n",
       "<table border=\"1\" class=\"dataframe\">\n",
       "  <thead>\n",
       "    <tr style=\"text-align: right;\">\n",
       "      <th></th>\n",
       "      <th>X1</th>\n",
       "      <th>X2</th>\n",
       "      <th>Class</th>\n",
       "    </tr>\n",
       "  </thead>\n",
       "  <tbody>\n",
       "    <tr>\n",
       "      <th>0</th>\n",
       "      <td>0.634205</td>\n",
       "      <td>1.750630</td>\n",
       "      <td>0</td>\n",
       "    </tr>\n",
       "    <tr>\n",
       "      <th>1</th>\n",
       "      <td>0.102697</td>\n",
       "      <td>-0.773978</td>\n",
       "      <td>0</td>\n",
       "    </tr>\n",
       "    <tr>\n",
       "      <th>2</th>\n",
       "      <td>0.070442</td>\n",
       "      <td>-0.673052</td>\n",
       "      <td>0</td>\n",
       "    </tr>\n",
       "    <tr>\n",
       "      <th>3</th>\n",
       "      <td>0.199506</td>\n",
       "      <td>-1.064561</td>\n",
       "      <td>0</td>\n",
       "    </tr>\n",
       "    <tr>\n",
       "      <th>4</th>\n",
       "      <td>0.374842</td>\n",
       "      <td>1.407743</td>\n",
       "      <td>0</td>\n",
       "    </tr>\n",
       "  </tbody>\n",
       "</table>\n",
       "</div>"
      ],
      "text/plain": [
       "         X1        X2  Class\n",
       "0  0.634205  1.750630      0\n",
       "1  0.102697 -0.773978      0\n",
       "2  0.070442 -0.673052      0\n",
       "3  0.199506 -1.064561      0\n",
       "4  0.374842  1.407743      0"
      ]
     },
     "metadata": {},
     "output_type": "display_data"
    }
   ],
   "source": [
    "from sklearn.preprocessing import StandardScaler\n",
    "\n",
    "scaler = StandardScaler()\n",
    "scaler.fit(Flower)\n",
    "Flower_std = pd.DataFrame(scaler.transform(Flower) , columns = ['X1', 'X2', 'Class'])\n",
    "Flower_std['Class'] = Flower['Class']\n",
    "\n",
    "display(Flower_std.head())"
   ]
  },
  {
   "cell_type": "code",
   "execution_count": 6,
   "id": "hollywood-detective",
   "metadata": {},
   "outputs": [
    {
     "name": "stdout",
     "output_type": "stream",
     "text": [
      "X1 \t ( min =  -2.11872062930916  max =  2.094811727652321 )\n",
      "\n",
      "X2 \t ( min =  -2.0481666654602075  max =  1.980981188795628 )\n",
      "\n",
      "Class \t ( min =  0  max =  1 )\n",
      "\n"
     ]
    },
    {
     "data": {
      "text/plain": [
       "<AxesSubplot:>"
      ]
     },
     "execution_count": 6,
     "metadata": {},
     "output_type": "execute_result"
    },
    {
     "data": {
      "image/png": "[encoded data removed]",
      "text/plain": [
       "<Figure size 432x288 with 1 Axes>"
      ]
     },
     "metadata": {
      "needs_background": "light"
     },
     "output_type": "display_data"
    }
   ],
   "source": [
    "for col in Flower_std.columns:\n",
    "    print ( col, '\\t ( min = ', Flower_std[col].min(), ' max = ', Flower_std[col].max(), ')\\n')\n",
    "\n",
    "Flower_std['X1'].hist(alpha = 0.5)\n",
    "Flower_std['X2'].hist(alpha = 0.5)"
   ]
  },
  {
   "cell_type": "code",
   "execution_count": 34,
   "id": "concrete-recipe",
   "metadata": {},
   "outputs": [
    {
     "data": {
      "image/png": "[encoded data removed]",
      "text/plain": [
       "<Figure size 432x288 with 2 Axes>"
      ]
     },
     "metadata": {
      "needs_background": "light"
     },
     "output_type": "display_data"
    }
   ],
   "source": [
    "# 1_c\n",
    "\n",
    "import matplotlib.pyplot as plt\n",
    "ax1 = Flower_std.plot.scatter(x='X1', y='X2', c='Class', colormap='viridis')"
   ]
  },
  {
   "cell_type": "code",
   "execution_count": 8,
   "id": "blocked-prediction",
   "metadata": {},
   "outputs": [
    {
     "data": {
      "text/html": [
       "<div>\n",
       "<style scoped>\n",
       "    .dataframe tbody tr th:only-of-type {\n",
       "        vertical-align: middle;\n",
       "    }\n",
       "\n",
       "    .dataframe tbody tr th {\n",
       "        vertical-align: top;\n",
       "    }\n",
       "\n",
       "    .dataframe thead th {\n",
       "        text-align: right;\n",
       "    }\n",
       "</style>\n",
       "<table border=\"1\" class=\"dataframe\">\n",
       "  <thead>\n",
       "    <tr style=\"text-align: right;\">\n",
       "      <th></th>\n",
       "      <th>X1</th>\n",
       "      <th>X2</th>\n",
       "    </tr>\n",
       "  </thead>\n",
       "  <tbody>\n",
       "    <tr>\n",
       "      <th>0</th>\n",
       "      <td>0.634205</td>\n",
       "      <td>1.750630</td>\n",
       "    </tr>\n",
       "    <tr>\n",
       "      <th>1</th>\n",
       "      <td>0.102697</td>\n",
       "      <td>-0.773978</td>\n",
       "    </tr>\n",
       "    <tr>\n",
       "      <th>2</th>\n",
       "      <td>0.070442</td>\n",
       "      <td>-0.673052</td>\n",
       "    </tr>\n",
       "    <tr>\n",
       "      <th>3</th>\n",
       "      <td>0.199506</td>\n",
       "      <td>-1.064561</td>\n",
       "    </tr>\n",
       "    <tr>\n",
       "      <th>4</th>\n",
       "      <td>0.374842</td>\n",
       "      <td>1.407743</td>\n",
       "    </tr>\n",
       "  </tbody>\n",
       "</table>\n",
       "</div>"
      ],
      "text/plain": [
       "         X1        X2\n",
       "0  0.634205  1.750630\n",
       "1  0.102697 -0.773978\n",
       "2  0.070442 -0.673052\n",
       "3  0.199506 -1.064561\n",
       "4  0.374842  1.407743"
      ]
     },
     "metadata": {},
     "output_type": "display_data"
    },
    {
     "data": {
      "text/html": [
       "<div>\n",
       "<style scoped>\n",
       "    .dataframe tbody tr th:only-of-type {\n",
       "        vertical-align: middle;\n",
       "    }\n",
       "\n",
       "    .dataframe tbody tr th {\n",
       "        vertical-align: top;\n",
       "    }\n",
       "\n",
       "    .dataframe thead th {\n",
       "        text-align: right;\n",
       "    }\n",
       "</style>\n",
       "<table border=\"1\" class=\"dataframe\">\n",
       "  <thead>\n",
       "    <tr style=\"text-align: right;\">\n",
       "      <th></th>\n",
       "      <th>Class</th>\n",
       "    </tr>\n",
       "  </thead>\n",
       "  <tbody>\n",
       "    <tr>\n",
       "      <th>0</th>\n",
       "      <td>0</td>\n",
       "    </tr>\n",
       "    <tr>\n",
       "      <th>1</th>\n",
       "      <td>0</td>\n",
       "    </tr>\n",
       "    <tr>\n",
       "      <th>2</th>\n",
       "      <td>0</td>\n",
       "    </tr>\n",
       "    <tr>\n",
       "      <th>3</th>\n",
       "      <td>0</td>\n",
       "    </tr>\n",
       "    <tr>\n",
       "      <th>4</th>\n",
       "      <td>0</td>\n",
       "    </tr>\n",
       "  </tbody>\n",
       "</table>\n",
       "</div>"
      ],
      "text/plain": [
       "   Class\n",
       "0      0\n",
       "1      0\n",
       "2      0\n",
       "3      0\n",
       "4      0"
      ]
     },
     "metadata": {},
     "output_type": "display_data"
    }
   ],
   "source": [
    "# 1_d\n",
    "\n",
    "x = Flower_std[['X1', 'X2']]\n",
    "y = Flower_std[['Class']]\n",
    "display(x.head())\n",
    "display(y.head())"
   ]
  },
  {
   "cell_type": "code",
   "execution_count": 9,
   "id": "silver-masters",
   "metadata": {},
   "outputs": [],
   "source": [
    "# 1_e\n",
    "\n",
    "from sklearn.model_selection import train_test_split\n",
    "x_train, x_test, y_train, y_test = train_test_split(x, y, test_size = 0.2, random_state = 5)"
   ]
  },
  {
   "cell_type": "code",
   "execution_count": 10,
   "id": "nervous-elimination",
   "metadata": {},
   "outputs": [
    {
     "data": {
      "text/plain": [
       "0    163\n",
       "1    157\n",
       "Name: Class, dtype: int64"
      ]
     },
     "metadata": {},
     "output_type": "display_data"
    },
    {
     "name": "stdout",
     "output_type": "stream",
     "text": [
      "===========> train <===========\n",
      "Distribution Of 0 : 50.94 %\n",
      "Distribution Of 1 : 49.06 %\n"
     ]
    }
   ],
   "source": [
    "display(y_train['Class'].value_counts())\n",
    "s = y_train['Class'].value_counts().sum()\n",
    "print( '===========> train <===========' )\n",
    "print( 'Distribution Of 0 :' , round(y_train['Class'].value_counts()[0] * 100 / s, 2), '%')\n",
    "print( 'Distribution Of 1 :' , round(y_train['Class'].value_counts()[1] * 100 / s, 2), '%')\n"
   ]
  },
  {
   "cell_type": "code",
   "execution_count": 36,
   "id": "adapted-annex",
   "metadata": {},
   "outputs": [
    {
     "data": {
      "text/plain": [
       "1    43\n",
       "0    37\n",
       "Name: Class, dtype: int64"
      ]
     },
     "metadata": {},
     "output_type": "display_data"
    },
    {
     "name": "stdout",
     "output_type": "stream",
     "text": [
      "============> test <============\n",
      "Distribution Of 0 : 46.25 %\n",
      "Distribution Of 1 : 53.75 %\n"
     ]
    }
   ],
   "source": [
    "display(y_test['Class'].value_counts())\n",
    "s = y_test['Class'].value_counts().sum()\n",
    "print( '============> test <============' )\n",
    "print( 'Distribution Of 0 :' , round(y_test['Class'].value_counts()[0] * 100 / s, 2), '%')\n",
    "print( 'Distribution Of 1 :' , round(y_test['Class'].value_counts()[1] * 100 / s, 2), '%')\n"
   ]
  },
  {
   "cell_type": "code",
   "execution_count": 12,
   "id": "christian-lodge",
   "metadata": {},
   "outputs": [
    {
     "data": {
      "text/plain": [
       "MLPClassifier(hidden_layer_sizes=(20, 20, 20), max_iter=1000)"
      ]
     },
     "execution_count": 12,
     "metadata": {},
     "output_type": "execute_result"
    }
   ],
   "source": [
    "# 1_f\n",
    "\n",
    "from sklearn.neural_network import MLPClassifier\n",
    "mlp = MLPClassifier(hidden_layer_sizes=(20, 20, 20), max_iter=1000, verbose=False)\n",
    "mlp.fit(x_train, y_train.values.ravel())"
   ]
  },
  {
   "cell_type": "code",
   "execution_count": 13,
   "id": "magnetic-reconstruction",
   "metadata": {},
   "outputs": [
    {
     "name": "stdout",
     "output_type": "stream",
     "text": [
      "0.8875\n"
     ]
    }
   ],
   "source": [
    "# 1_g\n",
    "\n",
    "from sklearn.metrics import accuracy_score\n",
    "y_predict = mlp.predict(x_test)\n",
    "print(accuracy_score(y_test,y_predict))"
   ]
  },
  {
   "cell_type": "code",
   "execution_count": 14,
   "id": "durable-germany",
   "metadata": {},
   "outputs": [
    {
     "data": {
      "image/png": "[encoded data removed]",
      "text/plain": [
       "<Figure size 432x288 with 1 Axes>"
      ]
     },
     "metadata": {
      "needs_background": "light"
     },
     "output_type": "display_data"
    }
   ],
   "source": [
    "# 1_h\n",
    "\n",
    "import numpy as np\n",
    "def plot_prediction(model, X, y):\n",
    "    x_min, x_max = X.T.iloc[0, :].min() - 1, X.T.iloc[0, :].max() + 1\n",
    "    y_min, y_max = X.T.iloc[1, :].min() - 1, X.T.iloc[1, :].max() + 1\n",
    "    h = 0.01\n",
    "\n",
    "    xx, yy = np.meshgrid(np.arange(x_min, x_max, h), np.arange(y_min, y_max, h))\n",
    "\n",
    "    Z = model(np.c_[xx.ravel(), yy.ravel()])\n",
    "    Z = Z.reshape(xx.shape)\n",
    "    plt.contourf(xx, yy, Z, cmap=plt.cm.Spectral)\n",
    "    plt.ylabel('X1')\n",
    "    plt.xlabel('X2')\n",
    "    co = np.array(y.iloc[:]).ravel()\n",
    "    colors = np.array([\"black\", \"white\"])\n",
    "    plt.scatter(X.T.iloc[0, :], X.T.iloc[1, :], c=colors[co], cmap=plt.cm.Spectral)\n",
    "\n",
    "plot_prediction(lambda x: mlp.predict(x), x_train, y_train)\n"
   ]
  },
  {
   "cell_type": "code",
   "execution_count": 16,
   "id": "reserved-character",
   "metadata": {},
   "outputs": [
    {
     "name": "stderr",
     "output_type": "stream",
     "text": [
      "C:\\ProgramData\\Anaconda3\\lib\\site-packages\\sklearn\\neural_network\\_multilayer_perceptron.py:617: ConvergenceWarning: Stochastic Optimizer: Maximum iterations (1000) reached and the optimization hasn't converged yet.\n",
      "  % self.max_iter, ConvergenceWarning)\n"
     ]
    },
    {
     "name": "stdout",
     "output_type": "stream",
     "text": [
      "accuracy_score for hidden layer  20 = 0.9\n",
      "accuracy_score for hidden layer  25 = 0.8875\n",
      "accuracy_score for hidden layer  30 = 0.9125\n",
      "accuracy_score for hidden layer  35 = 0.8875\n",
      "accuracy_score for hidden layer  40 = 0.925\n",
      "accuracy_score for hidden layer  45 = 0.875\n"
     ]
    }
   ],
   "source": [
    "from sklearn.neural_network import MLPClassifier\n",
    "from sklearn.metrics import accuracy_score\n",
    "\n",
    "#1_i\n",
    "for i in range(20, 50, 5):\n",
    "    mlp = MLPClassifier(hidden_layer_sizes=(i, i, i), max_iter=1000)\n",
    "    mlp.fit(x_train, y_train.values.ravel())\n",
    "    y_predict = mlp.predict(x_test)\n",
    "    print('accuracy_score for hidden layer ', i, '=' , accuracy_score(y_test,y_predict))"
   ]
  },
  {
   "cell_type": "code",
   "execution_count": 17,
   "id": "bored-religious",
   "metadata": {},
   "outputs": [
    {
     "name": "stdout",
     "output_type": "stream",
     "text": [
      "accuracy_score for max_iter 1000 = 0.875\n",
      "accuracy_score for max_iter 1100 = 0.9\n",
      "accuracy_score for max_iter 1200 = 0.9\n",
      "accuracy_score for max_iter 1300 = 0.8875\n",
      "accuracy_score for max_iter 1400 = 0.9125\n",
      "accuracy_score for max_iter 1500 = 0.9\n",
      "accuracy_score for max_iter 1600 = 0.8875\n",
      "accuracy_score for max_iter 1700 = 0.8875\n",
      "accuracy_score for max_iter 1800 = 0.8875\n",
      "accuracy_score for max_iter 1900 = 0.8875\n"
     ]
    }
   ],
   "source": [
    "from sklearn.neural_network import MLPClassifier\n",
    "from sklearn.metrics import accuracy_score\n",
    "\n",
    "for i in range(1000, 2000, 100):\n",
    "    mlp = MLPClassifier(hidden_layer_sizes=(20, 20, 20), max_iter=i)\n",
    "    mlp.fit(x_train, y_train.values.ravel())\n",
    "    y_predict = mlp.predict(x_test)\n",
    "    print('accuracy_score for max_iter', i, '=' , accuracy_score(y_test,y_predict))"
   ]
  },
  {
   "cell_type": "code",
   "execution_count": 18,
   "id": "middle-clock",
   "metadata": {},
   "outputs": [
    {
     "name": "stdout",
     "output_type": "stream",
     "text": [
      "accuracy_score for activation function identity = 0.4375\n",
      "accuracy_score for activation function logistic = 0.4625\n",
      "accuracy_score for activation function tanh = 0.9\n",
      "accuracy_score for activation function relu = 0.9\n"
     ]
    }
   ],
   "source": [
    "from sklearn.neural_network import MLPClassifier\n",
    "from sklearn.metrics import accuracy_score\n",
    "\n",
    "activation_f = ['identity', 'logistic', 'tanh', 'relu']\n",
    "\n",
    "for i in activation_f:\n",
    "    mlp = MLPClassifier(hidden_layer_sizes=(20, 20, 20), max_iter=1000, activation = i)\n",
    "    mlp.fit(x_train, y_train.values.ravel())\n",
    "    y_predict = mlp.predict(x_test)\n",
    "    print('accuracy_score for activation function', i, '=' , accuracy_score(y_test,y_predict))"
   ]
  },
  {
   "cell_type": "code",
   "execution_count": 46,
   "id": "annoying-spain",
   "metadata": {},
   "outputs": [
    {
     "name": "stdout",
     "output_type": "stream",
     "text": [
      "Approximatly the best accuracy_score =  0.9125\n"
     ]
    }
   ],
   "source": [
    "mlp = MLPClassifier(hidden_layer_sizes=(40, 40, 40), max_iter=1400, activation = 'tanh')\n",
    "mlp.fit(x_train, y_train.values.ravel())\n",
    "y_predict = mlp.predict(x_test)\n",
    "print('Approximatly the best accuracy_score = ' , accuracy_score(y_test,y_predict))"
   ]
  }
 ],
 "metadata": {
  "kernelspec": {
   "display_name": "Python 3",
   "language": "python",
   "name": "python3"
  },
  "language_info": {
   "codemirror_mode": {
    "name": "ipython",
    "version": 3
   },
   "file_extension": ".py",
   "mimetype": "text/x-python",
   "name": "python",
   "nbconvert_exporter": "python",
   "pygments_lexer": "ipython3",
   "version": "3.7.1"
  }
 },
 "nbformat": 4,
 "nbformat_minor": 5
}
